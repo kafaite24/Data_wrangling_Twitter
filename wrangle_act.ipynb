{
  "nbformat": 4,
  "nbformat_minor": 0,
  "metadata": {
    "colab": {
      "name": "wrangle_act.ipynb",
      "provenance": [],
      "collapsed_sections": [],
      "toc_visible": true
    },
    "kernelspec": {
      "name": "python3",
      "display_name": "Python 3"
    }
  },
  "cells": [
    {
      "cell_type": "code",
      "metadata": {
        "id": "k9DhPzcTL6UI",
        "colab_type": "code",
        "colab": {}
      },
      "source": [
        "#import libraries\n",
        "import pandas as pd\n",
        "import numpy as np\n",
        "import matplotlib.pyplot as plt\n",
        "%matplotlib inline\n",
        "import requests\n",
        "import tweepy \n",
        "import json\n",
        "import tweepy\n",
        "from tweepy import OAuthHandler\n",
        "import json\n",
        "from timeit import default_timer as timer\n"
      ],
      "execution_count": 0,
      "outputs": []
    },
    {
      "cell_type": "markdown",
      "metadata": {
        "id": "DVnEjrBfl0Ew",
        "colab_type": "text"
      },
      "source": [
        "#Step 1: Gather Data\n",
        "###Data 1: Twitter Archive Enhanced (Local file)"
      ]
    },
    {
      "cell_type": "code",
      "metadata": {
        "id": "nYpCipNMMv0K",
        "colab_type": "code",
        "outputId": "89d32111-6e50-466f-cb20-7c77848aaa09",
        "colab": {
          "base_uri": "https://localhost:8080/",
          "height": 567
        }
      },
      "source": [
        "#read data file\n",
        "twitter_archive= pd.read_csv(\"twitter-archive-enhanced.csv\")\n",
        "\n",
        "#Inspect few first 5 rows\n",
        "twitter_archive.head()"
      ],
      "execution_count": 70,
      "outputs": [
        {
          "output_type": "execute_result",
          "data": {
            "text/html": [
              "<div>\n",
              "<style scoped>\n",
              "    .dataframe tbody tr th:only-of-type {\n",
              "        vertical-align: middle;\n",
              "    }\n",
              "\n",
              "    .dataframe tbody tr th {\n",
              "        vertical-align: top;\n",
              "    }\n",
              "\n",
              "    .dataframe thead th {\n",
              "        text-align: right;\n",
              "    }\n",
              "</style>\n",
              "<table border=\"1\" class=\"dataframe\">\n",
              "  <thead>\n",
              "    <tr style=\"text-align: right;\">\n",
              "      <th></th>\n",
              "      <th>tweet_id</th>\n",
              "      <th>in_reply_to_status_id</th>\n",
              "      <th>in_reply_to_user_id</th>\n",
              "      <th>timestamp</th>\n",
              "      <th>source</th>\n",
              "      <th>text</th>\n",
              "      <th>retweeted_status_id</th>\n",
              "      <th>retweeted_status_user_id</th>\n",
              "      <th>retweeted_status_timestamp</th>\n",
              "      <th>expanded_urls</th>\n",
              "      <th>rating_numerator</th>\n",
              "      <th>rating_denominator</th>\n",
              "      <th>name</th>\n",
              "      <th>doggo</th>\n",
              "      <th>floofer</th>\n",
              "      <th>pupper</th>\n",
              "      <th>puppo</th>\n",
              "    </tr>\n",
              "  </thead>\n",
              "  <tbody>\n",
              "    <tr>\n",
              "      <th>0</th>\n",
              "      <td>892420643555336193</td>\n",
              "      <td>NaN</td>\n",
              "      <td>NaN</td>\n",
              "      <td>2017-08-01 16:23:56 +0000</td>\n",
              "      <td>&lt;a href=\"http://twitter.com/download/iphone\" r...</td>\n",
              "      <td>This is Phineas. He's a mystical boy. Only eve...</td>\n",
              "      <td>NaN</td>\n",
              "      <td>NaN</td>\n",
              "      <td>NaN</td>\n",
              "      <td>https://twitter.com/dog_rates/status/892420643...</td>\n",
              "      <td>13</td>\n",
              "      <td>10</td>\n",
              "      <td>Phineas</td>\n",
              "      <td>None</td>\n",
              "      <td>None</td>\n",
              "      <td>None</td>\n",
              "      <td>None</td>\n",
              "    </tr>\n",
              "    <tr>\n",
              "      <th>1</th>\n",
              "      <td>892177421306343426</td>\n",
              "      <td>NaN</td>\n",
              "      <td>NaN</td>\n",
              "      <td>2017-08-01 00:17:27 +0000</td>\n",
              "      <td>&lt;a href=\"http://twitter.com/download/iphone\" r...</td>\n",
              "      <td>This is Tilly. She's just checking pup on you....</td>\n",
              "      <td>NaN</td>\n",
              "      <td>NaN</td>\n",
              "      <td>NaN</td>\n",
              "      <td>https://twitter.com/dog_rates/status/892177421...</td>\n",
              "      <td>13</td>\n",
              "      <td>10</td>\n",
              "      <td>Tilly</td>\n",
              "      <td>None</td>\n",
              "      <td>None</td>\n",
              "      <td>None</td>\n",
              "      <td>None</td>\n",
              "    </tr>\n",
              "    <tr>\n",
              "      <th>2</th>\n",
              "      <td>891815181378084864</td>\n",
              "      <td>NaN</td>\n",
              "      <td>NaN</td>\n",
              "      <td>2017-07-31 00:18:03 +0000</td>\n",
              "      <td>&lt;a href=\"http://twitter.com/download/iphone\" r...</td>\n",
              "      <td>This is Archie. He is a rare Norwegian Pouncin...</td>\n",
              "      <td>NaN</td>\n",
              "      <td>NaN</td>\n",
              "      <td>NaN</td>\n",
              "      <td>https://twitter.com/dog_rates/status/891815181...</td>\n",
              "      <td>12</td>\n",
              "      <td>10</td>\n",
              "      <td>Archie</td>\n",
              "      <td>None</td>\n",
              "      <td>None</td>\n",
              "      <td>None</td>\n",
              "      <td>None</td>\n",
              "    </tr>\n",
              "    <tr>\n",
              "      <th>3</th>\n",
              "      <td>891689557279858688</td>\n",
              "      <td>NaN</td>\n",
              "      <td>NaN</td>\n",
              "      <td>2017-07-30 15:58:51 +0000</td>\n",
              "      <td>&lt;a href=\"http://twitter.com/download/iphone\" r...</td>\n",
              "      <td>This is Darla. She commenced a snooze mid meal...</td>\n",
              "      <td>NaN</td>\n",
              "      <td>NaN</td>\n",
              "      <td>NaN</td>\n",
              "      <td>https://twitter.com/dog_rates/status/891689557...</td>\n",
              "      <td>13</td>\n",
              "      <td>10</td>\n",
              "      <td>Darla</td>\n",
              "      <td>None</td>\n",
              "      <td>None</td>\n",
              "      <td>None</td>\n",
              "      <td>None</td>\n",
              "    </tr>\n",
              "    <tr>\n",
              "      <th>4</th>\n",
              "      <td>891327558926688256</td>\n",
              "      <td>NaN</td>\n",
              "      <td>NaN</td>\n",
              "      <td>2017-07-29 16:00:24 +0000</td>\n",
              "      <td>&lt;a href=\"http://twitter.com/download/iphone\" r...</td>\n",
              "      <td>This is Franklin. He would like you to stop ca...</td>\n",
              "      <td>NaN</td>\n",
              "      <td>NaN</td>\n",
              "      <td>NaN</td>\n",
              "      <td>https://twitter.com/dog_rates/status/891327558...</td>\n",
              "      <td>12</td>\n",
              "      <td>10</td>\n",
              "      <td>Franklin</td>\n",
              "      <td>None</td>\n",
              "      <td>None</td>\n",
              "      <td>None</td>\n",
              "      <td>None</td>\n",
              "    </tr>\n",
              "  </tbody>\n",
              "</table>\n",
              "</div>"
            ],
            "text/plain": [
              "             tweet_id  in_reply_to_status_id  ...  pupper puppo\n",
              "0  892420643555336193                    NaN  ...    None  None\n",
              "1  892177421306343426                    NaN  ...    None  None\n",
              "2  891815181378084864                    NaN  ...    None  None\n",
              "3  891689557279858688                    NaN  ...    None  None\n",
              "4  891327558926688256                    NaN  ...    None  None\n",
              "\n",
              "[5 rows x 17 columns]"
            ]
          },
          "metadata": {
            "tags": []
          },
          "execution_count": 70
        }
      ]
    },
    {
      "cell_type": "markdown",
      "metadata": {
        "id": "d-fUX7PpmfaK",
        "colab_type": "text"
      },
      "source": [
        "###Data 2: Image Predictions (URL)"
      ]
    },
    {
      "cell_type": "code",
      "metadata": {
        "id": "Hxq6JQCQM_MT",
        "colab_type": "code",
        "colab": {}
      },
      "source": [
        "url = \"https://d17h27t6h515a5.cloudfront.net/topher/2017/August/599fd2ad_image-predictions/image-predictions.tsv\"\n",
        "response = requests.get(url)\n",
        "\n",
        "with open('image-predictions.tsv', mode ='wb') as file:\n",
        "    file.write(response.content)\n",
        "\n",
        "#Read TSV file\n",
        "image_prediction = pd.read_csv('image-predictions.tsv', sep='\\t' )"
      ],
      "execution_count": 0,
      "outputs": []
    },
    {
      "cell_type": "code",
      "metadata": {
        "id": "BG_vf4HRNrMz",
        "colab_type": "code",
        "outputId": "7213cd9a-5204-4c19-9b10-81be289ddec9",
        "colab": {
          "base_uri": "https://localhost:8080/",
          "height": 217
        }
      },
      "source": [
        "#Inspect few first 5 rows\n",
        "image_prediction.head()"
      ],
      "execution_count": 72,
      "outputs": [
        {
          "output_type": "execute_result",
          "data": {
            "text/html": [
              "<div>\n",
              "<style scoped>\n",
              "    .dataframe tbody tr th:only-of-type {\n",
              "        vertical-align: middle;\n",
              "    }\n",
              "\n",
              "    .dataframe tbody tr th {\n",
              "        vertical-align: top;\n",
              "    }\n",
              "\n",
              "    .dataframe thead th {\n",
              "        text-align: right;\n",
              "    }\n",
              "</style>\n",
              "<table border=\"1\" class=\"dataframe\">\n",
              "  <thead>\n",
              "    <tr style=\"text-align: right;\">\n",
              "      <th></th>\n",
              "      <th>tweet_id</th>\n",
              "      <th>jpg_url</th>\n",
              "      <th>img_num</th>\n",
              "      <th>p1</th>\n",
              "      <th>p1_conf</th>\n",
              "      <th>p1_dog</th>\n",
              "      <th>p2</th>\n",
              "      <th>p2_conf</th>\n",
              "      <th>p2_dog</th>\n",
              "      <th>p3</th>\n",
              "      <th>p3_conf</th>\n",
              "      <th>p3_dog</th>\n",
              "    </tr>\n",
              "  </thead>\n",
              "  <tbody>\n",
              "    <tr>\n",
              "      <th>0</th>\n",
              "      <td>666020888022790149</td>\n",
              "      <td>https://pbs.twimg.com/media/CT4udn0WwAA0aMy.jpg</td>\n",
              "      <td>1</td>\n",
              "      <td>Welsh_springer_spaniel</td>\n",
              "      <td>0.465074</td>\n",
              "      <td>True</td>\n",
              "      <td>collie</td>\n",
              "      <td>0.156665</td>\n",
              "      <td>True</td>\n",
              "      <td>Shetland_sheepdog</td>\n",
              "      <td>0.061428</td>\n",
              "      <td>True</td>\n",
              "    </tr>\n",
              "    <tr>\n",
              "      <th>1</th>\n",
              "      <td>666029285002620928</td>\n",
              "      <td>https://pbs.twimg.com/media/CT42GRgUYAA5iDo.jpg</td>\n",
              "      <td>1</td>\n",
              "      <td>redbone</td>\n",
              "      <td>0.506826</td>\n",
              "      <td>True</td>\n",
              "      <td>miniature_pinscher</td>\n",
              "      <td>0.074192</td>\n",
              "      <td>True</td>\n",
              "      <td>Rhodesian_ridgeback</td>\n",
              "      <td>0.072010</td>\n",
              "      <td>True</td>\n",
              "    </tr>\n",
              "    <tr>\n",
              "      <th>2</th>\n",
              "      <td>666033412701032449</td>\n",
              "      <td>https://pbs.twimg.com/media/CT4521TWwAEvMyu.jpg</td>\n",
              "      <td>1</td>\n",
              "      <td>German_shepherd</td>\n",
              "      <td>0.596461</td>\n",
              "      <td>True</td>\n",
              "      <td>malinois</td>\n",
              "      <td>0.138584</td>\n",
              "      <td>True</td>\n",
              "      <td>bloodhound</td>\n",
              "      <td>0.116197</td>\n",
              "      <td>True</td>\n",
              "    </tr>\n",
              "    <tr>\n",
              "      <th>3</th>\n",
              "      <td>666044226329800704</td>\n",
              "      <td>https://pbs.twimg.com/media/CT5Dr8HUEAA-lEu.jpg</td>\n",
              "      <td>1</td>\n",
              "      <td>Rhodesian_ridgeback</td>\n",
              "      <td>0.408143</td>\n",
              "      <td>True</td>\n",
              "      <td>redbone</td>\n",
              "      <td>0.360687</td>\n",
              "      <td>True</td>\n",
              "      <td>miniature_pinscher</td>\n",
              "      <td>0.222752</td>\n",
              "      <td>True</td>\n",
              "    </tr>\n",
              "    <tr>\n",
              "      <th>4</th>\n",
              "      <td>666049248165822465</td>\n",
              "      <td>https://pbs.twimg.com/media/CT5IQmsXIAAKY4A.jpg</td>\n",
              "      <td>1</td>\n",
              "      <td>miniature_pinscher</td>\n",
              "      <td>0.560311</td>\n",
              "      <td>True</td>\n",
              "      <td>Rottweiler</td>\n",
              "      <td>0.243682</td>\n",
              "      <td>True</td>\n",
              "      <td>Doberman</td>\n",
              "      <td>0.154629</td>\n",
              "      <td>True</td>\n",
              "    </tr>\n",
              "  </tbody>\n",
              "</table>\n",
              "</div>"
            ],
            "text/plain": [
              "             tweet_id  ... p3_dog\n",
              "0  666020888022790149  ...   True\n",
              "1  666029285002620928  ...   True\n",
              "2  666033412701032449  ...   True\n",
              "3  666044226329800704  ...   True\n",
              "4  666049248165822465  ...   True\n",
              "\n",
              "[5 rows x 12 columns]"
            ]
          },
          "metadata": {
            "tags": []
          },
          "execution_count": 72
        }
      ]
    },
    {
      "cell_type": "markdown",
      "metadata": {
        "id": "_7Xuy_QDmz_D",
        "colab_type": "text"
      },
      "source": [
        "###Data 3: Tweets (API)"
      ]
    },
    {
      "cell_type": "code",
      "metadata": {
        "id": "aS2A13tRNsZo",
        "colab_type": "code",
        "colab": {}
      },
      "source": [
        "# Query Twitter API for each tweet in the Twitter archive and save JSON in a text file\n",
        "# These are hidden to comply with Twitter's API terms and conditions\n",
        "consumer_key = 'HIDDEN'\n",
        "consumer_secret = 'HIDDEN'\n",
        "access_token = 'HIDDEN'\n",
        "access_secret = 'HIDDEN'\n",
        "\n",
        "auth = OAuthHandler(consumer_key, consumer_secret)\n",
        "auth.set_access_token(access_token, access_secret)\n",
        "\n",
        "api = tweepy.API(auth, wait_on_rate_limit=True)"
      ],
      "execution_count": 0,
      "outputs": []
    },
    {
      "cell_type": "code",
      "metadata": {
        "id": "1s2cCYKvPYrs",
        "colab_type": "code",
        "outputId": "d5325e49-ebc6-4dd7-c580-ad5bbd9cfc5f",
        "colab": {
          "base_uri": "https://localhost:8080/",
          "height": 35
        }
      },
      "source": [
        "tweet_ids = twitter_archive.tweet_id.values\n",
        "len(tweet_ids)"
      ],
      "execution_count": 74,
      "outputs": [
        {
          "output_type": "execute_result",
          "data": {
            "text/plain": [
              "2356"
            ]
          },
          "metadata": {
            "tags": []
          },
          "execution_count": 74
        }
      ]
    },
    {
      "cell_type": "code",
      "metadata": {
        "id": "mZN7JaktalI6",
        "colab_type": "code",
        "colab": {}
      },
      "source": [
        "# Save only certain tweet elements in dataframe\n",
        "elements_to_save = ['id', 'favorite_count', 'retweet_count']\n",
        "# Later convert list to dataframe\n",
        "data = []\n",
        "\n",
        "with open('tweet-json.json', 'r') as readfile: \n",
        "    # Read in JSON line and convert to dict\n",
        "    tweet_json = readfile.readline()\n",
        "    \n",
        "    # Read line by line into DataFrame\n",
        "    while tweet_json:\n",
        "        tweet_dict = json.loads(tweet_json)\n",
        "        # Create a smaller dict\n",
        "        data_row = dict((k, tweet_dict[k]) for k in elements_to_save)\n",
        "        data.append(data_row)\n",
        "        \n",
        "        # Read in JSON line and convert to dict\n",
        "        tweet_json = readfile.readline()\n",
        "        \n",
        "df_tweet_info = pd.DataFrame.from_dict(data)"
      ],
      "execution_count": 0,
      "outputs": []
    },
    {
      "cell_type": "code",
      "metadata": {
        "id": "EVNpjXPrbE79",
        "colab_type": "code",
        "outputId": "e2293a63-49a1-4e15-d78a-6a709416c3dc",
        "colab": {
          "base_uri": "https://localhost:8080/",
          "height": 197
        }
      },
      "source": [
        "#Inspect few first 5 rows\n",
        "df_tweet_info.head()"
      ],
      "execution_count": 76,
      "outputs": [
        {
          "output_type": "execute_result",
          "data": {
            "text/html": [
              "<div>\n",
              "<style scoped>\n",
              "    .dataframe tbody tr th:only-of-type {\n",
              "        vertical-align: middle;\n",
              "    }\n",
              "\n",
              "    .dataframe tbody tr th {\n",
              "        vertical-align: top;\n",
              "    }\n",
              "\n",
              "    .dataframe thead th {\n",
              "        text-align: right;\n",
              "    }\n",
              "</style>\n",
              "<table border=\"1\" class=\"dataframe\">\n",
              "  <thead>\n",
              "    <tr style=\"text-align: right;\">\n",
              "      <th></th>\n",
              "      <th>id</th>\n",
              "      <th>favorite_count</th>\n",
              "      <th>retweet_count</th>\n",
              "    </tr>\n",
              "  </thead>\n",
              "  <tbody>\n",
              "    <tr>\n",
              "      <th>0</th>\n",
              "      <td>892420643555336193</td>\n",
              "      <td>39467</td>\n",
              "      <td>8853</td>\n",
              "    </tr>\n",
              "    <tr>\n",
              "      <th>1</th>\n",
              "      <td>892177421306343426</td>\n",
              "      <td>33819</td>\n",
              "      <td>6514</td>\n",
              "    </tr>\n",
              "    <tr>\n",
              "      <th>2</th>\n",
              "      <td>891815181378084864</td>\n",
              "      <td>25461</td>\n",
              "      <td>4328</td>\n",
              "    </tr>\n",
              "    <tr>\n",
              "      <th>3</th>\n",
              "      <td>891689557279858688</td>\n",
              "      <td>42908</td>\n",
              "      <td>8964</td>\n",
              "    </tr>\n",
              "    <tr>\n",
              "      <th>4</th>\n",
              "      <td>891327558926688256</td>\n",
              "      <td>41048</td>\n",
              "      <td>9774</td>\n",
              "    </tr>\n",
              "  </tbody>\n",
              "</table>\n",
              "</div>"
            ],
            "text/plain": [
              "                   id  favorite_count  retweet_count\n",
              "0  892420643555336193           39467           8853\n",
              "1  892177421306343426           33819           6514\n",
              "2  891815181378084864           25461           4328\n",
              "3  891689557279858688           42908           8964\n",
              "4  891327558926688256           41048           9774"
            ]
          },
          "metadata": {
            "tags": []
          },
          "execution_count": 76
        }
      ]
    },
    {
      "cell_type": "markdown",
      "metadata": {
        "id": "95n4j7phoCJO",
        "colab_type": "text"
      },
      "source": [
        "Now we have gathered all the data from 3 different sources:\n",
        "\n",
        "1- Data from an existing file (**twitter-archive-enhanced.csv**): Read csv file using pandas (WeRateDogs Twitter archive). \n",
        "\n",
        "2- Downloaded a file programmatically using the Requests library and the URL: (**image-predictions.tsv**) The tweet image predictions, i.e., what breed of dog (or other object, animal, etc.) is present in each tweet according to a neural network. \n",
        "\n",
        "3- Queried the Twitter API for each tweet's JSON data using Python's Tweepy library and stored each tweet's entire set of JSON data in a file called **tweet-json.txt** file.\n"
      ]
    },
    {
      "cell_type": "markdown",
      "metadata": {
        "id": "qIBtyoqInxCE",
        "colab_type": "text"
      },
      "source": [
        "#Step 2: Assess Data\n",
        "\n",
        "We will assess data using 2 different approaches: Visually and Programmatically\n",
        "\n",
        "###**Twitter archive**\n",
        "\n",
        "####Visually"
      ]
    },
    {
      "cell_type": "code",
      "metadata": {
        "id": "CJkQLaRWRmoR",
        "colab_type": "code",
        "outputId": "37ff75ac-2021-4b56-efc8-48714fa14fad",
        "colab": {
          "base_uri": "https://localhost:8080/",
          "height": 1000
        }
      },
      "source": [
        "twitter_archive"
      ],
      "execution_count": 77,
      "outputs": [
        {
          "output_type": "execute_result",
          "data": {
            "text/html": [
              "<div>\n",
              "<style scoped>\n",
              "    .dataframe tbody tr th:only-of-type {\n",
              "        vertical-align: middle;\n",
              "    }\n",
              "\n",
              "    .dataframe tbody tr th {\n",
              "        vertical-align: top;\n",
              "    }\n",
              "\n",
              "    .dataframe thead th {\n",
              "        text-align: right;\n",
              "    }\n",
              "</style>\n",
              "<table border=\"1\" class=\"dataframe\">\n",
              "  <thead>\n",
              "    <tr style=\"text-align: right;\">\n",
              "      <th></th>\n",
              "      <th>tweet_id</th>\n",
              "      <th>in_reply_to_status_id</th>\n",
              "      <th>in_reply_to_user_id</th>\n",
              "      <th>timestamp</th>\n",
              "      <th>source</th>\n",
              "      <th>text</th>\n",
              "      <th>retweeted_status_id</th>\n",
              "      <th>retweeted_status_user_id</th>\n",
              "      <th>retweeted_status_timestamp</th>\n",
              "      <th>expanded_urls</th>\n",
              "      <th>rating_numerator</th>\n",
              "      <th>rating_denominator</th>\n",
              "      <th>name</th>\n",
              "      <th>doggo</th>\n",
              "      <th>floofer</th>\n",
              "      <th>pupper</th>\n",
              "      <th>puppo</th>\n",
              "    </tr>\n",
              "  </thead>\n",
              "  <tbody>\n",
              "    <tr>\n",
              "      <th>0</th>\n",
              "      <td>892420643555336193</td>\n",
              "      <td>NaN</td>\n",
              "      <td>NaN</td>\n",
              "      <td>2017-08-01 16:23:56 +0000</td>\n",
              "      <td>&lt;a href=\"http://twitter.com/download/iphone\" r...</td>\n",
              "      <td>This is Phineas. He's a mystical boy. Only eve...</td>\n",
              "      <td>NaN</td>\n",
              "      <td>NaN</td>\n",
              "      <td>NaN</td>\n",
              "      <td>https://twitter.com/dog_rates/status/892420643...</td>\n",
              "      <td>13</td>\n",
              "      <td>10</td>\n",
              "      <td>Phineas</td>\n",
              "      <td>None</td>\n",
              "      <td>None</td>\n",
              "      <td>None</td>\n",
              "      <td>None</td>\n",
              "    </tr>\n",
              "    <tr>\n",
              "      <th>1</th>\n",
              "      <td>892177421306343426</td>\n",
              "      <td>NaN</td>\n",
              "      <td>NaN</td>\n",
              "      <td>2017-08-01 00:17:27 +0000</td>\n",
              "      <td>&lt;a href=\"http://twitter.com/download/iphone\" r...</td>\n",
              "      <td>This is Tilly. She's just checking pup on you....</td>\n",
              "      <td>NaN</td>\n",
              "      <td>NaN</td>\n",
              "      <td>NaN</td>\n",
              "      <td>https://twitter.com/dog_rates/status/892177421...</td>\n",
              "      <td>13</td>\n",
              "      <td>10</td>\n",
              "      <td>Tilly</td>\n",
              "      <td>None</td>\n",
              "      <td>None</td>\n",
              "      <td>None</td>\n",
              "      <td>None</td>\n",
              "    </tr>\n",
              "    <tr>\n",
              "      <th>2</th>\n",
              "      <td>891815181378084864</td>\n",
              "      <td>NaN</td>\n",
              "      <td>NaN</td>\n",
              "      <td>2017-07-31 00:18:03 +0000</td>\n",
              "      <td>&lt;a href=\"http://twitter.com/download/iphone\" r...</td>\n",
              "      <td>This is Archie. He is a rare Norwegian Pouncin...</td>\n",
              "      <td>NaN</td>\n",
              "      <td>NaN</td>\n",
              "      <td>NaN</td>\n",
              "      <td>https://twitter.com/dog_rates/status/891815181...</td>\n",
              "      <td>12</td>\n",
              "      <td>10</td>\n",
              "      <td>Archie</td>\n",
              "      <td>None</td>\n",
              "      <td>None</td>\n",
              "      <td>None</td>\n",
              "      <td>None</td>\n",
              "    </tr>\n",
              "    <tr>\n",
              "      <th>3</th>\n",
              "      <td>891689557279858688</td>\n",
              "      <td>NaN</td>\n",
              "      <td>NaN</td>\n",
              "      <td>2017-07-30 15:58:51 +0000</td>\n",
              "      <td>&lt;a href=\"http://twitter.com/download/iphone\" r...</td>\n",
              "      <td>This is Darla. She commenced a snooze mid meal...</td>\n",
              "      <td>NaN</td>\n",
              "      <td>NaN</td>\n",
              "      <td>NaN</td>\n",
              "      <td>https://twitter.com/dog_rates/status/891689557...</td>\n",
              "      <td>13</td>\n",
              "      <td>10</td>\n",
              "      <td>Darla</td>\n",
              "      <td>None</td>\n",
              "      <td>None</td>\n",
              "      <td>None</td>\n",
              "      <td>None</td>\n",
              "    </tr>\n",
              "    <tr>\n",
              "      <th>4</th>\n",
              "      <td>891327558926688256</td>\n",
              "      <td>NaN</td>\n",
              "      <td>NaN</td>\n",
              "      <td>2017-07-29 16:00:24 +0000</td>\n",
              "      <td>&lt;a href=\"http://twitter.com/download/iphone\" r...</td>\n",
              "      <td>This is Franklin. He would like you to stop ca...</td>\n",
              "      <td>NaN</td>\n",
              "      <td>NaN</td>\n",
              "      <td>NaN</td>\n",
              "      <td>https://twitter.com/dog_rates/status/891327558...</td>\n",
              "      <td>12</td>\n",
              "      <td>10</td>\n",
              "      <td>Franklin</td>\n",
              "      <td>None</td>\n",
              "      <td>None</td>\n",
              "      <td>None</td>\n",
              "      <td>None</td>\n",
              "    </tr>\n",
              "    <tr>\n",
              "      <th>...</th>\n",
              "      <td>...</td>\n",
              "      <td>...</td>\n",
              "      <td>...</td>\n",
              "      <td>...</td>\n",
              "      <td>...</td>\n",
              "      <td>...</td>\n",
              "      <td>...</td>\n",
              "      <td>...</td>\n",
              "      <td>...</td>\n",
              "      <td>...</td>\n",
              "      <td>...</td>\n",
              "      <td>...</td>\n",
              "      <td>...</td>\n",
              "      <td>...</td>\n",
              "      <td>...</td>\n",
              "      <td>...</td>\n",
              "      <td>...</td>\n",
              "    </tr>\n",
              "    <tr>\n",
              "      <th>2351</th>\n",
              "      <td>666049248165822465</td>\n",
              "      <td>NaN</td>\n",
              "      <td>NaN</td>\n",
              "      <td>2015-11-16 00:24:50 +0000</td>\n",
              "      <td>&lt;a href=\"http://twitter.com/download/iphone\" r...</td>\n",
              "      <td>Here we have a 1949 1st generation vulpix. Enj...</td>\n",
              "      <td>NaN</td>\n",
              "      <td>NaN</td>\n",
              "      <td>NaN</td>\n",
              "      <td>https://twitter.com/dog_rates/status/666049248...</td>\n",
              "      <td>5</td>\n",
              "      <td>10</td>\n",
              "      <td>None</td>\n",
              "      <td>None</td>\n",
              "      <td>None</td>\n",
              "      <td>None</td>\n",
              "      <td>None</td>\n",
              "    </tr>\n",
              "    <tr>\n",
              "      <th>2352</th>\n",
              "      <td>666044226329800704</td>\n",
              "      <td>NaN</td>\n",
              "      <td>NaN</td>\n",
              "      <td>2015-11-16 00:04:52 +0000</td>\n",
              "      <td>&lt;a href=\"http://twitter.com/download/iphone\" r...</td>\n",
              "      <td>This is a purebred Piers Morgan. Loves to Netf...</td>\n",
              "      <td>NaN</td>\n",
              "      <td>NaN</td>\n",
              "      <td>NaN</td>\n",
              "      <td>https://twitter.com/dog_rates/status/666044226...</td>\n",
              "      <td>6</td>\n",
              "      <td>10</td>\n",
              "      <td>a</td>\n",
              "      <td>None</td>\n",
              "      <td>None</td>\n",
              "      <td>None</td>\n",
              "      <td>None</td>\n",
              "    </tr>\n",
              "    <tr>\n",
              "      <th>2353</th>\n",
              "      <td>666033412701032449</td>\n",
              "      <td>NaN</td>\n",
              "      <td>NaN</td>\n",
              "      <td>2015-11-15 23:21:54 +0000</td>\n",
              "      <td>&lt;a href=\"http://twitter.com/download/iphone\" r...</td>\n",
              "      <td>Here is a very happy pup. Big fan of well-main...</td>\n",
              "      <td>NaN</td>\n",
              "      <td>NaN</td>\n",
              "      <td>NaN</td>\n",
              "      <td>https://twitter.com/dog_rates/status/666033412...</td>\n",
              "      <td>9</td>\n",
              "      <td>10</td>\n",
              "      <td>a</td>\n",
              "      <td>None</td>\n",
              "      <td>None</td>\n",
              "      <td>None</td>\n",
              "      <td>None</td>\n",
              "    </tr>\n",
              "    <tr>\n",
              "      <th>2354</th>\n",
              "      <td>666029285002620928</td>\n",
              "      <td>NaN</td>\n",
              "      <td>NaN</td>\n",
              "      <td>2015-11-15 23:05:30 +0000</td>\n",
              "      <td>&lt;a href=\"http://twitter.com/download/iphone\" r...</td>\n",
              "      <td>This is a western brown Mitsubishi terrier. Up...</td>\n",
              "      <td>NaN</td>\n",
              "      <td>NaN</td>\n",
              "      <td>NaN</td>\n",
              "      <td>https://twitter.com/dog_rates/status/666029285...</td>\n",
              "      <td>7</td>\n",
              "      <td>10</td>\n",
              "      <td>a</td>\n",
              "      <td>None</td>\n",
              "      <td>None</td>\n",
              "      <td>None</td>\n",
              "      <td>None</td>\n",
              "    </tr>\n",
              "    <tr>\n",
              "      <th>2355</th>\n",
              "      <td>666020888022790149</td>\n",
              "      <td>NaN</td>\n",
              "      <td>NaN</td>\n",
              "      <td>2015-11-15 22:32:08 +0000</td>\n",
              "      <td>&lt;a href=\"http://twitter.com/download/iphone\" r...</td>\n",
              "      <td>Here we have a Japanese Irish Setter. Lost eye...</td>\n",
              "      <td>NaN</td>\n",
              "      <td>NaN</td>\n",
              "      <td>NaN</td>\n",
              "      <td>https://twitter.com/dog_rates/status/666020888...</td>\n",
              "      <td>8</td>\n",
              "      <td>10</td>\n",
              "      <td>None</td>\n",
              "      <td>None</td>\n",
              "      <td>None</td>\n",
              "      <td>None</td>\n",
              "      <td>None</td>\n",
              "    </tr>\n",
              "  </tbody>\n",
              "</table>\n",
              "<p>2356 rows × 17 columns</p>\n",
              "</div>"
            ],
            "text/plain": [
              "                tweet_id  in_reply_to_status_id  ...  pupper puppo\n",
              "0     892420643555336193                    NaN  ...    None  None\n",
              "1     892177421306343426                    NaN  ...    None  None\n",
              "2     891815181378084864                    NaN  ...    None  None\n",
              "3     891689557279858688                    NaN  ...    None  None\n",
              "4     891327558926688256                    NaN  ...    None  None\n",
              "...                  ...                    ...  ...     ...   ...\n",
              "2351  666049248165822465                    NaN  ...    None  None\n",
              "2352  666044226329800704                    NaN  ...    None  None\n",
              "2353  666033412701032449                    NaN  ...    None  None\n",
              "2354  666029285002620928                    NaN  ...    None  None\n",
              "2355  666020888022790149                    NaN  ...    None  None\n",
              "\n",
              "[2356 rows x 17 columns]"
            ]
          },
          "metadata": {
            "tags": []
          },
          "execution_count": 77
        }
      ]
    },
    {
      "cell_type": "code",
      "metadata": {
        "id": "tzuShQ4lp8BJ",
        "colab_type": "code",
        "outputId": "82116969-4769-4518-ecd1-d03cf613e006",
        "colab": {
          "base_uri": "https://localhost:8080/",
          "height": 895
        }
      },
      "source": [
        "#Take a random sample of 10 \n",
        "twitter_archive.sample(10)"
      ],
      "execution_count": 78,
      "outputs": [
        {
          "output_type": "execute_result",
          "data": {
            "text/html": [
              "<div>\n",
              "<style scoped>\n",
              "    .dataframe tbody tr th:only-of-type {\n",
              "        vertical-align: middle;\n",
              "    }\n",
              "\n",
              "    .dataframe tbody tr th {\n",
              "        vertical-align: top;\n",
              "    }\n",
              "\n",
              "    .dataframe thead th {\n",
              "        text-align: right;\n",
              "    }\n",
              "</style>\n",
              "<table border=\"1\" class=\"dataframe\">\n",
              "  <thead>\n",
              "    <tr style=\"text-align: right;\">\n",
              "      <th></th>\n",
              "      <th>tweet_id</th>\n",
              "      <th>in_reply_to_status_id</th>\n",
              "      <th>in_reply_to_user_id</th>\n",
              "      <th>timestamp</th>\n",
              "      <th>source</th>\n",
              "      <th>text</th>\n",
              "      <th>retweeted_status_id</th>\n",
              "      <th>retweeted_status_user_id</th>\n",
              "      <th>retweeted_status_timestamp</th>\n",
              "      <th>expanded_urls</th>\n",
              "      <th>rating_numerator</th>\n",
              "      <th>rating_denominator</th>\n",
              "      <th>name</th>\n",
              "      <th>doggo</th>\n",
              "      <th>floofer</th>\n",
              "      <th>pupper</th>\n",
              "      <th>puppo</th>\n",
              "    </tr>\n",
              "  </thead>\n",
              "  <tbody>\n",
              "    <tr>\n",
              "      <th>1738</th>\n",
              "      <td>679527802031484928</td>\n",
              "      <td>NaN</td>\n",
              "      <td>NaN</td>\n",
              "      <td>2015-12-23 05:03:47 +0000</td>\n",
              "      <td>&lt;a href=\"http://twitter.com/download/iphone\" r...</td>\n",
              "      <td>This little pupper just arrived. 11/10 would s...</td>\n",
              "      <td>NaN</td>\n",
              "      <td>NaN</td>\n",
              "      <td>NaN</td>\n",
              "      <td>https://twitter.com/dog_rates/status/679527802...</td>\n",
              "      <td>11</td>\n",
              "      <td>10</td>\n",
              "      <td>None</td>\n",
              "      <td>None</td>\n",
              "      <td>None</td>\n",
              "      <td>pupper</td>\n",
              "      <td>None</td>\n",
              "    </tr>\n",
              "    <tr>\n",
              "      <th>342</th>\n",
              "      <td>832088576586297345</td>\n",
              "      <td>8.320875e+17</td>\n",
              "      <td>3.058208e+07</td>\n",
              "      <td>2017-02-16 04:45:50 +0000</td>\n",
              "      <td>&lt;a href=\"http://twitter.com/download/iphone\" r...</td>\n",
              "      <td>@docmisterio account started on 11/15/15</td>\n",
              "      <td>NaN</td>\n",
              "      <td>NaN</td>\n",
              "      <td>NaN</td>\n",
              "      <td>NaN</td>\n",
              "      <td>11</td>\n",
              "      <td>15</td>\n",
              "      <td>None</td>\n",
              "      <td>None</td>\n",
              "      <td>None</td>\n",
              "      <td>None</td>\n",
              "      <td>None</td>\n",
              "    </tr>\n",
              "    <tr>\n",
              "      <th>479</th>\n",
              "      <td>815745968457060357</td>\n",
              "      <td>NaN</td>\n",
              "      <td>NaN</td>\n",
              "      <td>2017-01-02 02:26:09 +0000</td>\n",
              "      <td>&lt;a href=\"http://twitter.com/download/iphone\" r...</td>\n",
              "      <td>RT @dog_rates: Say hello to Levi. He's a Madag...</td>\n",
              "      <td>7.914070e+17</td>\n",
              "      <td>4.196984e+09</td>\n",
              "      <td>2016-10-26 22:31:36 +0000</td>\n",
              "      <td>https://twitter.com/dog_rates/status/791406955...</td>\n",
              "      <td>12</td>\n",
              "      <td>10</td>\n",
              "      <td>Levi</td>\n",
              "      <td>None</td>\n",
              "      <td>None</td>\n",
              "      <td>None</td>\n",
              "      <td>None</td>\n",
              "    </tr>\n",
              "    <tr>\n",
              "      <th>2065</th>\n",
              "      <td>671151324042559489</td>\n",
              "      <td>NaN</td>\n",
              "      <td>NaN</td>\n",
              "      <td>2015-11-30 02:18:39 +0000</td>\n",
              "      <td>&lt;a href=\"http://twitter.com/download/iphone\" r...</td>\n",
              "      <td>*struggling to breathe properly* 12/10 https:/...</td>\n",
              "      <td>NaN</td>\n",
              "      <td>NaN</td>\n",
              "      <td>NaN</td>\n",
              "      <td>https://twitter.com/dog_rates/status/671151324...</td>\n",
              "      <td>12</td>\n",
              "      <td>10</td>\n",
              "      <td>None</td>\n",
              "      <td>None</td>\n",
              "      <td>None</td>\n",
              "      <td>None</td>\n",
              "      <td>None</td>\n",
              "    </tr>\n",
              "    <tr>\n",
              "      <th>64</th>\n",
              "      <td>879674319642796034</td>\n",
              "      <td>8.795538e+17</td>\n",
              "      <td>3.105441e+09</td>\n",
              "      <td>2017-06-27 12:14:36 +0000</td>\n",
              "      <td>&lt;a href=\"http://twitter.com/download/iphone\" r...</td>\n",
              "      <td>@RealKentMurphy 14/10 confirmed</td>\n",
              "      <td>NaN</td>\n",
              "      <td>NaN</td>\n",
              "      <td>NaN</td>\n",
              "      <td>NaN</td>\n",
              "      <td>14</td>\n",
              "      <td>10</td>\n",
              "      <td>None</td>\n",
              "      <td>None</td>\n",
              "      <td>None</td>\n",
              "      <td>None</td>\n",
              "      <td>None</td>\n",
              "    </tr>\n",
              "    <tr>\n",
              "      <th>263</th>\n",
              "      <td>842535590457499648</td>\n",
              "      <td>NaN</td>\n",
              "      <td>NaN</td>\n",
              "      <td>2017-03-17 00:38:32 +0000</td>\n",
              "      <td>&lt;a href=\"http://twitter.com/download/iphone\" r...</td>\n",
              "      <td>This is Winnie. She lost her body saving a chi...</td>\n",
              "      <td>NaN</td>\n",
              "      <td>NaN</td>\n",
              "      <td>NaN</td>\n",
              "      <td>https://twitter.com/dog_rates/status/842535590...</td>\n",
              "      <td>13</td>\n",
              "      <td>10</td>\n",
              "      <td>Winnie</td>\n",
              "      <td>None</td>\n",
              "      <td>None</td>\n",
              "      <td>None</td>\n",
              "      <td>None</td>\n",
              "    </tr>\n",
              "    <tr>\n",
              "      <th>1958</th>\n",
              "      <td>673580926094458881</td>\n",
              "      <td>NaN</td>\n",
              "      <td>NaN</td>\n",
              "      <td>2015-12-06 19:13:01 +0000</td>\n",
              "      <td>&lt;a href=\"http://twitter.com/download/iphone\" r...</td>\n",
              "      <td>When you ask your professor about extra credit...</td>\n",
              "      <td>NaN</td>\n",
              "      <td>NaN</td>\n",
              "      <td>NaN</td>\n",
              "      <td>https://twitter.com/dog_rates/status/673580926...</td>\n",
              "      <td>8</td>\n",
              "      <td>10</td>\n",
              "      <td>None</td>\n",
              "      <td>None</td>\n",
              "      <td>None</td>\n",
              "      <td>None</td>\n",
              "      <td>None</td>\n",
              "    </tr>\n",
              "    <tr>\n",
              "      <th>1747</th>\n",
              "      <td>679111216690831360</td>\n",
              "      <td>NaN</td>\n",
              "      <td>NaN</td>\n",
              "      <td>2015-12-22 01:28:25 +0000</td>\n",
              "      <td>&lt;a href=\"http://twitter.com/download/iphone\" r...</td>\n",
              "      <td>This is officially the greatest yawn of all ti...</td>\n",
              "      <td>NaN</td>\n",
              "      <td>NaN</td>\n",
              "      <td>NaN</td>\n",
              "      <td>https://twitter.com/dog_rates/status/679111216...</td>\n",
              "      <td>12</td>\n",
              "      <td>10</td>\n",
              "      <td>officially</td>\n",
              "      <td>None</td>\n",
              "      <td>None</td>\n",
              "      <td>None</td>\n",
              "      <td>None</td>\n",
              "    </tr>\n",
              "    <tr>\n",
              "      <th>1535</th>\n",
              "      <td>689977555533848577</td>\n",
              "      <td>NaN</td>\n",
              "      <td>NaN</td>\n",
              "      <td>2016-01-21 01:07:23 +0000</td>\n",
              "      <td>&lt;a href=\"http://twitter.com/download/iphone\" r...</td>\n",
              "      <td>Happy Wednesday here's a pup wearing a beret. ...</td>\n",
              "      <td>NaN</td>\n",
              "      <td>NaN</td>\n",
              "      <td>NaN</td>\n",
              "      <td>https://twitter.com/dog_rates/status/689977555...</td>\n",
              "      <td>12</td>\n",
              "      <td>10</td>\n",
              "      <td>None</td>\n",
              "      <td>None</td>\n",
              "      <td>None</td>\n",
              "      <td>None</td>\n",
              "      <td>None</td>\n",
              "    </tr>\n",
              "    <tr>\n",
              "      <th>1392</th>\n",
              "      <td>700062718104104960</td>\n",
              "      <td>NaN</td>\n",
              "      <td>NaN</td>\n",
              "      <td>2016-02-17 21:02:13 +0000</td>\n",
              "      <td>&lt;a href=\"http://twitter.com/download/iphone\" r...</td>\n",
              "      <td>This is Eazy-E. He's colorful af. Must be rare...</td>\n",
              "      <td>NaN</td>\n",
              "      <td>NaN</td>\n",
              "      <td>NaN</td>\n",
              "      <td>https://twitter.com/dog_rates/status/700062718...</td>\n",
              "      <td>6</td>\n",
              "      <td>10</td>\n",
              "      <td>Eazy</td>\n",
              "      <td>None</td>\n",
              "      <td>None</td>\n",
              "      <td>None</td>\n",
              "      <td>None</td>\n",
              "    </tr>\n",
              "  </tbody>\n",
              "</table>\n",
              "</div>"
            ],
            "text/plain": [
              "                tweet_id  in_reply_to_status_id  ...  pupper puppo\n",
              "1738  679527802031484928                    NaN  ...  pupper  None\n",
              "342   832088576586297345           8.320875e+17  ...    None  None\n",
              "479   815745968457060357                    NaN  ...    None  None\n",
              "2065  671151324042559489                    NaN  ...    None  None\n",
              "64    879674319642796034           8.795538e+17  ...    None  None\n",
              "263   842535590457499648                    NaN  ...    None  None\n",
              "1958  673580926094458881                    NaN  ...    None  None\n",
              "1747  679111216690831360                    NaN  ...    None  None\n",
              "1535  689977555533848577                    NaN  ...    None  None\n",
              "1392  700062718104104960                    NaN  ...    None  None\n",
              "\n",
              "[10 rows x 17 columns]"
            ]
          },
          "metadata": {
            "tags": []
          },
          "execution_count": 78
        }
      ]
    },
    {
      "cell_type": "markdown",
      "metadata": {
        "id": "wCc3Vgx0sEOv",
        "colab_type": "text"
      },
      "source": [
        "In several columns null objects are non-null (None instead of NaN).\n",
        "\n",
        "Source column has the HTML tags "
      ]
    },
    {
      "cell_type": "markdown",
      "metadata": {
        "id": "RH_D989mqiTQ",
        "colab_type": "text"
      },
      "source": [
        "###Programmatically"
      ]
    },
    {
      "cell_type": "code",
      "metadata": {
        "id": "dlcFd1jaqlWf",
        "colab_type": "code",
        "outputId": "c45b27d4-655d-4bdf-b30d-562266cd6a16",
        "colab": {
          "base_uri": "https://localhost:8080/",
          "height": 433
        }
      },
      "source": [
        "#Inspect columns' data types and null values\n",
        "twitter_archive.info()"
      ],
      "execution_count": 79,
      "outputs": [
        {
          "output_type": "stream",
          "text": [
            "<class 'pandas.core.frame.DataFrame'>\n",
            "RangeIndex: 2356 entries, 0 to 2355\n",
            "Data columns (total 17 columns):\n",
            " #   Column                      Non-Null Count  Dtype  \n",
            "---  ------                      --------------  -----  \n",
            " 0   tweet_id                    2356 non-null   int64  \n",
            " 1   in_reply_to_status_id       78 non-null     float64\n",
            " 2   in_reply_to_user_id         78 non-null     float64\n",
            " 3   timestamp                   2356 non-null   object \n",
            " 4   source                      2356 non-null   object \n",
            " 5   text                        2356 non-null   object \n",
            " 6   retweeted_status_id         181 non-null    float64\n",
            " 7   retweeted_status_user_id    181 non-null    float64\n",
            " 8   retweeted_status_timestamp  181 non-null    object \n",
            " 9   expanded_urls               2297 non-null   object \n",
            " 10  rating_numerator            2356 non-null   int64  \n",
            " 11  rating_denominator          2356 non-null   int64  \n",
            " 12  name                        2356 non-null   object \n",
            " 13  doggo                       2356 non-null   object \n",
            " 14  floofer                     2356 non-null   object \n",
            " 15  pupper                      2356 non-null   object \n",
            " 16  puppo                       2356 non-null   object \n",
            "dtypes: float64(4), int64(3), object(10)\n",
            "memory usage: 313.0+ KB\n"
          ],
          "name": "stdout"
        }
      ]
    },
    {
      "cell_type": "markdown",
      "metadata": {
        "id": "rLsnE1CHraf2",
        "colab_type": "text"
      },
      "source": [
        "'retweeted_status_timestamp' and 'timestamp' should be datetime instead of object(string).\n",
        "\n",
        "'in_reply_to_status_id', 'in_reply_to_user_id', 'retweeted_status_id', 'retweeted_status_user_id' should be integers/strings instead of float.\n",
        "\n",
        "Missing values in 'expanded_urls'\n",
        "\n",
        "'tweet_id' should be string not int"
      ]
    },
    {
      "cell_type": "code",
      "metadata": {
        "id": "XERQNREtqpYf",
        "colab_type": "code",
        "outputId": "85c2145d-231e-4624-cf75-c785f26c47f0",
        "colab": {
          "base_uri": "https://localhost:8080/",
          "height": 314
        }
      },
      "source": [
        "# View descriptive statistics of twitter_archive\n",
        "twitter_archive.describe()"
      ],
      "execution_count": 80,
      "outputs": [
        {
          "output_type": "execute_result",
          "data": {
            "text/html": [
              "<div>\n",
              "<style scoped>\n",
              "    .dataframe tbody tr th:only-of-type {\n",
              "        vertical-align: middle;\n",
              "    }\n",
              "\n",
              "    .dataframe tbody tr th {\n",
              "        vertical-align: top;\n",
              "    }\n",
              "\n",
              "    .dataframe thead th {\n",
              "        text-align: right;\n",
              "    }\n",
              "</style>\n",
              "<table border=\"1\" class=\"dataframe\">\n",
              "  <thead>\n",
              "    <tr style=\"text-align: right;\">\n",
              "      <th></th>\n",
              "      <th>tweet_id</th>\n",
              "      <th>in_reply_to_status_id</th>\n",
              "      <th>in_reply_to_user_id</th>\n",
              "      <th>retweeted_status_id</th>\n",
              "      <th>retweeted_status_user_id</th>\n",
              "      <th>rating_numerator</th>\n",
              "      <th>rating_denominator</th>\n",
              "    </tr>\n",
              "  </thead>\n",
              "  <tbody>\n",
              "    <tr>\n",
              "      <th>count</th>\n",
              "      <td>2.356000e+03</td>\n",
              "      <td>7.800000e+01</td>\n",
              "      <td>7.800000e+01</td>\n",
              "      <td>1.810000e+02</td>\n",
              "      <td>1.810000e+02</td>\n",
              "      <td>2356.000000</td>\n",
              "      <td>2356.000000</td>\n",
              "    </tr>\n",
              "    <tr>\n",
              "      <th>mean</th>\n",
              "      <td>7.427716e+17</td>\n",
              "      <td>7.455079e+17</td>\n",
              "      <td>2.014171e+16</td>\n",
              "      <td>7.720400e+17</td>\n",
              "      <td>1.241698e+16</td>\n",
              "      <td>13.126486</td>\n",
              "      <td>10.455433</td>\n",
              "    </tr>\n",
              "    <tr>\n",
              "      <th>std</th>\n",
              "      <td>6.856705e+16</td>\n",
              "      <td>7.582492e+16</td>\n",
              "      <td>1.252797e+17</td>\n",
              "      <td>6.236928e+16</td>\n",
              "      <td>9.599254e+16</td>\n",
              "      <td>45.876648</td>\n",
              "      <td>6.745237</td>\n",
              "    </tr>\n",
              "    <tr>\n",
              "      <th>min</th>\n",
              "      <td>6.660209e+17</td>\n",
              "      <td>6.658147e+17</td>\n",
              "      <td>1.185634e+07</td>\n",
              "      <td>6.661041e+17</td>\n",
              "      <td>7.832140e+05</td>\n",
              "      <td>0.000000</td>\n",
              "      <td>0.000000</td>\n",
              "    </tr>\n",
              "    <tr>\n",
              "      <th>25%</th>\n",
              "      <td>6.783989e+17</td>\n",
              "      <td>6.757419e+17</td>\n",
              "      <td>3.086374e+08</td>\n",
              "      <td>7.186315e+17</td>\n",
              "      <td>4.196984e+09</td>\n",
              "      <td>10.000000</td>\n",
              "      <td>10.000000</td>\n",
              "    </tr>\n",
              "    <tr>\n",
              "      <th>50%</th>\n",
              "      <td>7.196279e+17</td>\n",
              "      <td>7.038708e+17</td>\n",
              "      <td>4.196984e+09</td>\n",
              "      <td>7.804657e+17</td>\n",
              "      <td>4.196984e+09</td>\n",
              "      <td>11.000000</td>\n",
              "      <td>10.000000</td>\n",
              "    </tr>\n",
              "    <tr>\n",
              "      <th>75%</th>\n",
              "      <td>7.993373e+17</td>\n",
              "      <td>8.257804e+17</td>\n",
              "      <td>4.196984e+09</td>\n",
              "      <td>8.203146e+17</td>\n",
              "      <td>4.196984e+09</td>\n",
              "      <td>12.000000</td>\n",
              "      <td>10.000000</td>\n",
              "    </tr>\n",
              "    <tr>\n",
              "      <th>max</th>\n",
              "      <td>8.924206e+17</td>\n",
              "      <td>8.862664e+17</td>\n",
              "      <td>8.405479e+17</td>\n",
              "      <td>8.874740e+17</td>\n",
              "      <td>7.874618e+17</td>\n",
              "      <td>1776.000000</td>\n",
              "      <td>170.000000</td>\n",
              "    </tr>\n",
              "  </tbody>\n",
              "</table>\n",
              "</div>"
            ],
            "text/plain": [
              "           tweet_id  ...  rating_denominator\n",
              "count  2.356000e+03  ...         2356.000000\n",
              "mean   7.427716e+17  ...           10.455433\n",
              "std    6.856705e+16  ...            6.745237\n",
              "min    6.660209e+17  ...            0.000000\n",
              "25%    6.783989e+17  ...           10.000000\n",
              "50%    7.196279e+17  ...           10.000000\n",
              "75%    7.993373e+17  ...           10.000000\n",
              "max    8.924206e+17  ...          170.000000\n",
              "\n",
              "[8 rows x 7 columns]"
            ]
          },
          "metadata": {
            "tags": []
          },
          "execution_count": 80
        }
      ]
    },
    {
      "cell_type": "code",
      "metadata": {
        "id": "KpuDJg9XqNkx",
        "colab_type": "code",
        "outputId": "470ab80e-61e2-41db-bc92-577156335543",
        "colab": {
          "base_uri": "https://localhost:8080/",
          "height": 225
        }
      },
      "source": [
        "#Different values in name column\n",
        "twitter_archive.name.value_counts()"
      ],
      "execution_count": 81,
      "outputs": [
        {
          "output_type": "execute_result",
          "data": {
            "text/plain": [
              "None       745\n",
              "a           55\n",
              "Charlie     12\n",
              "Lucy        11\n",
              "Cooper      11\n",
              "          ... \n",
              "Grey         1\n",
              "Eazy         1\n",
              "Kaiya        1\n",
              "Tug          1\n",
              "Zuzu         1\n",
              "Name: name, Length: 957, dtype: int64"
            ]
          },
          "metadata": {
            "tags": []
          },
          "execution_count": 81
        }
      ]
    },
    {
      "cell_type": "markdown",
      "metadata": {
        "id": "bLb_6vraQGrz",
        "colab_type": "text"
      },
      "source": [
        "some names are not actual names"
      ]
    },
    {
      "cell_type": "code",
      "metadata": {
        "id": "FGM_NqHydVWT",
        "colab_type": "code",
        "outputId": "0b26e1ec-fa08-479a-ea9a-d02e109d4223",
        "colab": {
          "base_uri": "https://localhost:8080/",
          "height": 67
        }
      },
      "source": [
        "#Different values in puppo column\n",
        "twitter_archive.puppo.value_counts()"
      ],
      "execution_count": 82,
      "outputs": [
        {
          "output_type": "execute_result",
          "data": {
            "text/plain": [
              "None     2326\n",
              "puppo      30\n",
              "Name: puppo, dtype: int64"
            ]
          },
          "metadata": {
            "tags": []
          },
          "execution_count": 82
        }
      ]
    },
    {
      "cell_type": "code",
      "metadata": {
        "id": "yEbh1i2AmBLf",
        "colab_type": "code",
        "outputId": "25aa0efa-7dfb-4edb-afc7-2ffff6a3a60c",
        "colab": {
          "base_uri": "https://localhost:8080/",
          "height": 700
        }
      },
      "source": [
        "#Different values in rating_numerator column\n",
        "twitter_archive.rating_numerator.value_counts()"
      ],
      "execution_count": 83,
      "outputs": [
        {
          "output_type": "execute_result",
          "data": {
            "text/plain": [
              "12      558\n",
              "11      464\n",
              "10      461\n",
              "13      351\n",
              "9       158\n",
              "8       102\n",
              "7        55\n",
              "14       54\n",
              "5        37\n",
              "6        32\n",
              "3        19\n",
              "4        17\n",
              "1         9\n",
              "2         9\n",
              "420       2\n",
              "0         2\n",
              "15        2\n",
              "75        2\n",
              "80        1\n",
              "20        1\n",
              "24        1\n",
              "26        1\n",
              "44        1\n",
              "50        1\n",
              "60        1\n",
              "165       1\n",
              "84        1\n",
              "88        1\n",
              "144       1\n",
              "182       1\n",
              "143       1\n",
              "666       1\n",
              "960       1\n",
              "1776      1\n",
              "17        1\n",
              "27        1\n",
              "45        1\n",
              "99        1\n",
              "121       1\n",
              "204       1\n",
              "Name: rating_numerator, dtype: int64"
            ]
          },
          "metadata": {
            "tags": []
          },
          "execution_count": 83
        }
      ]
    },
    {
      "cell_type": "code",
      "metadata": {
        "id": "Md9pE9ttq3gK",
        "colab_type": "code",
        "outputId": "4a1d3c41-3006-4f7b-8fff-9ead5d03131e",
        "colab": {
          "base_uri": "https://localhost:8080/",
          "height": 333
        }
      },
      "source": [
        "#Different values in rating_denominator column\n",
        "twitter_archive.rating_denominator.value_counts()"
      ],
      "execution_count": 84,
      "outputs": [
        {
          "output_type": "execute_result",
          "data": {
            "text/plain": [
              "10     2333\n",
              "11        3\n",
              "50        3\n",
              "80        2\n",
              "20        2\n",
              "2         1\n",
              "16        1\n",
              "40        1\n",
              "70        1\n",
              "15        1\n",
              "90        1\n",
              "110       1\n",
              "120       1\n",
              "130       1\n",
              "150       1\n",
              "170       1\n",
              "7         1\n",
              "0         1\n",
              "Name: rating_denominator, dtype: int64"
            ]
          },
          "metadata": {
            "tags": []
          },
          "execution_count": 84
        }
      ]
    },
    {
      "cell_type": "markdown",
      "metadata": {
        "id": "Vmu_xXmsrPp7",
        "colab_type": "text"
      },
      "source": [
        "rating_denominator should be a standard 10, but there are a multitude of other values which must be errors"
      ]
    },
    {
      "cell_type": "markdown",
      "metadata": {
        "id": "c6iHFDBoSiWA",
        "colab_type": "text"
      },
      "source": [
        "###**Image predictions**\n",
        "\n",
        "####Visually"
      ]
    },
    {
      "cell_type": "code",
      "metadata": {
        "id": "GG1-jM6ESmtI",
        "colab_type": "code",
        "outputId": "e82984c7-887f-489c-b229-ad0e6f839d95",
        "colab": {
          "base_uri": "https://localhost:8080/",
          "height": 443
        }
      },
      "source": [
        "image_prediction"
      ],
      "execution_count": 85,
      "outputs": [
        {
          "output_type": "execute_result",
          "data": {
            "text/html": [
              "<div>\n",
              "<style scoped>\n",
              "    .dataframe tbody tr th:only-of-type {\n",
              "        vertical-align: middle;\n",
              "    }\n",
              "\n",
              "    .dataframe tbody tr th {\n",
              "        vertical-align: top;\n",
              "    }\n",
              "\n",
              "    .dataframe thead th {\n",
              "        text-align: right;\n",
              "    }\n",
              "</style>\n",
              "<table border=\"1\" class=\"dataframe\">\n",
              "  <thead>\n",
              "    <tr style=\"text-align: right;\">\n",
              "      <th></th>\n",
              "      <th>tweet_id</th>\n",
              "      <th>jpg_url</th>\n",
              "      <th>img_num</th>\n",
              "      <th>p1</th>\n",
              "      <th>p1_conf</th>\n",
              "      <th>p1_dog</th>\n",
              "      <th>p2</th>\n",
              "      <th>p2_conf</th>\n",
              "      <th>p2_dog</th>\n",
              "      <th>p3</th>\n",
              "      <th>p3_conf</th>\n",
              "      <th>p3_dog</th>\n",
              "    </tr>\n",
              "  </thead>\n",
              "  <tbody>\n",
              "    <tr>\n",
              "      <th>0</th>\n",
              "      <td>666020888022790149</td>\n",
              "      <td>https://pbs.twimg.com/media/CT4udn0WwAA0aMy.jpg</td>\n",
              "      <td>1</td>\n",
              "      <td>Welsh_springer_spaniel</td>\n",
              "      <td>0.465074</td>\n",
              "      <td>True</td>\n",
              "      <td>collie</td>\n",
              "      <td>0.156665</td>\n",
              "      <td>True</td>\n",
              "      <td>Shetland_sheepdog</td>\n",
              "      <td>0.061428</td>\n",
              "      <td>True</td>\n",
              "    </tr>\n",
              "    <tr>\n",
              "      <th>1</th>\n",
              "      <td>666029285002620928</td>\n",
              "      <td>https://pbs.twimg.com/media/CT42GRgUYAA5iDo.jpg</td>\n",
              "      <td>1</td>\n",
              "      <td>redbone</td>\n",
              "      <td>0.506826</td>\n",
              "      <td>True</td>\n",
              "      <td>miniature_pinscher</td>\n",
              "      <td>0.074192</td>\n",
              "      <td>True</td>\n",
              "      <td>Rhodesian_ridgeback</td>\n",
              "      <td>0.072010</td>\n",
              "      <td>True</td>\n",
              "    </tr>\n",
              "    <tr>\n",
              "      <th>2</th>\n",
              "      <td>666033412701032449</td>\n",
              "      <td>https://pbs.twimg.com/media/CT4521TWwAEvMyu.jpg</td>\n",
              "      <td>1</td>\n",
              "      <td>German_shepherd</td>\n",
              "      <td>0.596461</td>\n",
              "      <td>True</td>\n",
              "      <td>malinois</td>\n",
              "      <td>0.138584</td>\n",
              "      <td>True</td>\n",
              "      <td>bloodhound</td>\n",
              "      <td>0.116197</td>\n",
              "      <td>True</td>\n",
              "    </tr>\n",
              "    <tr>\n",
              "      <th>3</th>\n",
              "      <td>666044226329800704</td>\n",
              "      <td>https://pbs.twimg.com/media/CT5Dr8HUEAA-lEu.jpg</td>\n",
              "      <td>1</td>\n",
              "      <td>Rhodesian_ridgeback</td>\n",
              "      <td>0.408143</td>\n",
              "      <td>True</td>\n",
              "      <td>redbone</td>\n",
              "      <td>0.360687</td>\n",
              "      <td>True</td>\n",
              "      <td>miniature_pinscher</td>\n",
              "      <td>0.222752</td>\n",
              "      <td>True</td>\n",
              "    </tr>\n",
              "    <tr>\n",
              "      <th>4</th>\n",
              "      <td>666049248165822465</td>\n",
              "      <td>https://pbs.twimg.com/media/CT5IQmsXIAAKY4A.jpg</td>\n",
              "      <td>1</td>\n",
              "      <td>miniature_pinscher</td>\n",
              "      <td>0.560311</td>\n",
              "      <td>True</td>\n",
              "      <td>Rottweiler</td>\n",
              "      <td>0.243682</td>\n",
              "      <td>True</td>\n",
              "      <td>Doberman</td>\n",
              "      <td>0.154629</td>\n",
              "      <td>True</td>\n",
              "    </tr>\n",
              "    <tr>\n",
              "      <th>...</th>\n",
              "      <td>...</td>\n",
              "      <td>...</td>\n",
              "      <td>...</td>\n",
              "      <td>...</td>\n",
              "      <td>...</td>\n",
              "      <td>...</td>\n",
              "      <td>...</td>\n",
              "      <td>...</td>\n",
              "      <td>...</td>\n",
              "      <td>...</td>\n",
              "      <td>...</td>\n",
              "      <td>...</td>\n",
              "    </tr>\n",
              "    <tr>\n",
              "      <th>2070</th>\n",
              "      <td>891327558926688256</td>\n",
              "      <td>https://pbs.twimg.com/media/DF6hr6BUMAAzZgT.jpg</td>\n",
              "      <td>2</td>\n",
              "      <td>basset</td>\n",
              "      <td>0.555712</td>\n",
              "      <td>True</td>\n",
              "      <td>English_springer</td>\n",
              "      <td>0.225770</td>\n",
              "      <td>True</td>\n",
              "      <td>German_short-haired_pointer</td>\n",
              "      <td>0.175219</td>\n",
              "      <td>True</td>\n",
              "    </tr>\n",
              "    <tr>\n",
              "      <th>2071</th>\n",
              "      <td>891689557279858688</td>\n",
              "      <td>https://pbs.twimg.com/media/DF_q7IAWsAEuuN8.jpg</td>\n",
              "      <td>1</td>\n",
              "      <td>paper_towel</td>\n",
              "      <td>0.170278</td>\n",
              "      <td>False</td>\n",
              "      <td>Labrador_retriever</td>\n",
              "      <td>0.168086</td>\n",
              "      <td>True</td>\n",
              "      <td>spatula</td>\n",
              "      <td>0.040836</td>\n",
              "      <td>False</td>\n",
              "    </tr>\n",
              "    <tr>\n",
              "      <th>2072</th>\n",
              "      <td>891815181378084864</td>\n",
              "      <td>https://pbs.twimg.com/media/DGBdLU1WsAANxJ9.jpg</td>\n",
              "      <td>1</td>\n",
              "      <td>Chihuahua</td>\n",
              "      <td>0.716012</td>\n",
              "      <td>True</td>\n",
              "      <td>malamute</td>\n",
              "      <td>0.078253</td>\n",
              "      <td>True</td>\n",
              "      <td>kelpie</td>\n",
              "      <td>0.031379</td>\n",
              "      <td>True</td>\n",
              "    </tr>\n",
              "    <tr>\n",
              "      <th>2073</th>\n",
              "      <td>892177421306343426</td>\n",
              "      <td>https://pbs.twimg.com/media/DGGmoV4XsAAUL6n.jpg</td>\n",
              "      <td>1</td>\n",
              "      <td>Chihuahua</td>\n",
              "      <td>0.323581</td>\n",
              "      <td>True</td>\n",
              "      <td>Pekinese</td>\n",
              "      <td>0.090647</td>\n",
              "      <td>True</td>\n",
              "      <td>papillon</td>\n",
              "      <td>0.068957</td>\n",
              "      <td>True</td>\n",
              "    </tr>\n",
              "    <tr>\n",
              "      <th>2074</th>\n",
              "      <td>892420643555336193</td>\n",
              "      <td>https://pbs.twimg.com/media/DGKD1-bXoAAIAUK.jpg</td>\n",
              "      <td>1</td>\n",
              "      <td>orange</td>\n",
              "      <td>0.097049</td>\n",
              "      <td>False</td>\n",
              "      <td>bagel</td>\n",
              "      <td>0.085851</td>\n",
              "      <td>False</td>\n",
              "      <td>banana</td>\n",
              "      <td>0.076110</td>\n",
              "      <td>False</td>\n",
              "    </tr>\n",
              "  </tbody>\n",
              "</table>\n",
              "<p>2075 rows × 12 columns</p>\n",
              "</div>"
            ],
            "text/plain": [
              "                tweet_id  ... p3_dog\n",
              "0     666020888022790149  ...   True\n",
              "1     666029285002620928  ...   True\n",
              "2     666033412701032449  ...   True\n",
              "3     666044226329800704  ...   True\n",
              "4     666049248165822465  ...   True\n",
              "...                  ...  ...    ...\n",
              "2070  891327558926688256  ...   True\n",
              "2071  891689557279858688  ...  False\n",
              "2072  891815181378084864  ...   True\n",
              "2073  892177421306343426  ...   True\n",
              "2074  892420643555336193  ...  False\n",
              "\n",
              "[2075 rows x 12 columns]"
            ]
          },
          "metadata": {
            "tags": []
          },
          "execution_count": 85
        }
      ]
    },
    {
      "cell_type": "markdown",
      "metadata": {
        "id": "E6VPteqfSxH3",
        "colab_type": "text"
      },
      "source": [
        "p1, p2, p3 columns have inconsistent capitalization \n",
        "\n",
        "The underscores visible in the predictions columns make the data look a little untidy and underprepared.\n",
        "\n",
        "On visually assessing this table, I can see that some of the predictions in the p1 column aren't breeds of dogs but other animals or non-living things and on checking out the corresponding image urls on a browser myself, I found out that a lot of these images didn't have any dogs in them. Thus such tweets are invalid."
      ]
    },
    {
      "cell_type": "code",
      "metadata": {
        "id": "HgEvkLF9SsU8",
        "colab_type": "code",
        "outputId": "32d585e0-6fe1-40f2-cf46-ad2e9b324d92",
        "colab": {
          "base_uri": "https://localhost:8080/",
          "height": 384
        }
      },
      "source": [
        "image_prediction.sample(10)"
      ],
      "execution_count": 86,
      "outputs": [
        {
          "output_type": "execute_result",
          "data": {
            "text/html": [
              "<div>\n",
              "<style scoped>\n",
              "    .dataframe tbody tr th:only-of-type {\n",
              "        vertical-align: middle;\n",
              "    }\n",
              "\n",
              "    .dataframe tbody tr th {\n",
              "        vertical-align: top;\n",
              "    }\n",
              "\n",
              "    .dataframe thead th {\n",
              "        text-align: right;\n",
              "    }\n",
              "</style>\n",
              "<table border=\"1\" class=\"dataframe\">\n",
              "  <thead>\n",
              "    <tr style=\"text-align: right;\">\n",
              "      <th></th>\n",
              "      <th>tweet_id</th>\n",
              "      <th>jpg_url</th>\n",
              "      <th>img_num</th>\n",
              "      <th>p1</th>\n",
              "      <th>p1_conf</th>\n",
              "      <th>p1_dog</th>\n",
              "      <th>p2</th>\n",
              "      <th>p2_conf</th>\n",
              "      <th>p2_dog</th>\n",
              "      <th>p3</th>\n",
              "      <th>p3_conf</th>\n",
              "      <th>p3_dog</th>\n",
              "    </tr>\n",
              "  </thead>\n",
              "  <tbody>\n",
              "    <tr>\n",
              "      <th>208</th>\n",
              "      <td>669970042633789440</td>\n",
              "      <td>https://pbs.twimg.com/media/CUw2MV4XIAAHLO_.jpg</td>\n",
              "      <td>1</td>\n",
              "      <td>miniature_pinscher</td>\n",
              "      <td>0.734744</td>\n",
              "      <td>True</td>\n",
              "      <td>Rottweiler</td>\n",
              "      <td>0.131066</td>\n",
              "      <td>True</td>\n",
              "      <td>Doberman</td>\n",
              "      <td>0.081509</td>\n",
              "      <td>True</td>\n",
              "    </tr>\n",
              "    <tr>\n",
              "      <th>667</th>\n",
              "      <td>682962037429899265</td>\n",
              "      <td>https://pbs.twimg.com/media/CXpeVzQW8AApKYb.jpg</td>\n",
              "      <td>1</td>\n",
              "      <td>dingo</td>\n",
              "      <td>0.278600</td>\n",
              "      <td>False</td>\n",
              "      <td>Chihuahua</td>\n",
              "      <td>0.155207</td>\n",
              "      <td>True</td>\n",
              "      <td>loupe</td>\n",
              "      <td>0.153598</td>\n",
              "      <td>False</td>\n",
              "    </tr>\n",
              "    <tr>\n",
              "      <th>1401</th>\n",
              "      <td>768855141948723200</td>\n",
              "      <td>https://pbs.twimg.com/media/CquFrCKWAAAr32m.jpg</td>\n",
              "      <td>1</td>\n",
              "      <td>chow</td>\n",
              "      <td>0.720219</td>\n",
              "      <td>True</td>\n",
              "      <td>Brabancon_griffon</td>\n",
              "      <td>0.058365</td>\n",
              "      <td>True</td>\n",
              "      <td>Rottweiler</td>\n",
              "      <td>0.055114</td>\n",
              "      <td>True</td>\n",
              "    </tr>\n",
              "    <tr>\n",
              "      <th>1459</th>\n",
              "      <td>778027034220126208</td>\n",
              "      <td>https://pbs.twimg.com/media/Cswbc2yWcAAVsCJ.jpg</td>\n",
              "      <td>1</td>\n",
              "      <td>clumber</td>\n",
              "      <td>0.946718</td>\n",
              "      <td>True</td>\n",
              "      <td>cocker_spaniel</td>\n",
              "      <td>0.015950</td>\n",
              "      <td>True</td>\n",
              "      <td>Lhasa</td>\n",
              "      <td>0.006519</td>\n",
              "      <td>True</td>\n",
              "    </tr>\n",
              "    <tr>\n",
              "      <th>606</th>\n",
              "      <td>679877062409191424</td>\n",
              "      <td>https://pbs.twimg.com/media/CW9olDsUsAA0XSf.jpg</td>\n",
              "      <td>1</td>\n",
              "      <td>hog</td>\n",
              "      <td>0.809466</td>\n",
              "      <td>False</td>\n",
              "      <td>hay</td>\n",
              "      <td>0.060178</td>\n",
              "      <td>False</td>\n",
              "      <td>lumbermill</td>\n",
              "      <td>0.016483</td>\n",
              "      <td>False</td>\n",
              "    </tr>\n",
              "    <tr>\n",
              "      <th>887</th>\n",
              "      <td>699072405256409088</td>\n",
              "      <td>https://pbs.twimg.com/ext_tw_video_thumb/69907...</td>\n",
              "      <td>1</td>\n",
              "      <td>Shih-Tzu</td>\n",
              "      <td>0.599587</td>\n",
              "      <td>True</td>\n",
              "      <td>Pekinese</td>\n",
              "      <td>0.213069</td>\n",
              "      <td>True</td>\n",
              "      <td>Maltese_dog</td>\n",
              "      <td>0.154293</td>\n",
              "      <td>True</td>\n",
              "    </tr>\n",
              "    <tr>\n",
              "      <th>1899</th>\n",
              "      <td>851224888060895234</td>\n",
              "      <td>https://pbs.twimg.com/media/C9AohFoWsAUmxDs.jpg</td>\n",
              "      <td>3</td>\n",
              "      <td>car_mirror</td>\n",
              "      <td>0.971512</td>\n",
              "      <td>False</td>\n",
              "      <td>seat_belt</td>\n",
              "      <td>0.007063</td>\n",
              "      <td>False</td>\n",
              "      <td>standard_poodle</td>\n",
              "      <td>0.005683</td>\n",
              "      <td>True</td>\n",
              "    </tr>\n",
              "    <tr>\n",
              "      <th>1572</th>\n",
              "      <td>795076730285391872</td>\n",
              "      <td>https://pbs.twimg.com/media/CwiuEJmW8AAZnit.jpg</td>\n",
              "      <td>2</td>\n",
              "      <td>gas_pump</td>\n",
              "      <td>0.676439</td>\n",
              "      <td>False</td>\n",
              "      <td>harvester</td>\n",
              "      <td>0.049995</td>\n",
              "      <td>False</td>\n",
              "      <td>swing</td>\n",
              "      <td>0.044660</td>\n",
              "      <td>False</td>\n",
              "    </tr>\n",
              "    <tr>\n",
              "      <th>1750</th>\n",
              "      <td>823939628516474880</td>\n",
              "      <td>https://pbs.twimg.com/media/C284uD8WgAEmMVn.jpg</td>\n",
              "      <td>1</td>\n",
              "      <td>schipperke</td>\n",
              "      <td>0.234076</td>\n",
              "      <td>True</td>\n",
              "      <td>curly-coated_retriever</td>\n",
              "      <td>0.193093</td>\n",
              "      <td>True</td>\n",
              "      <td>Labrador_retriever</td>\n",
              "      <td>0.095197</td>\n",
              "      <td>True</td>\n",
              "    </tr>\n",
              "    <tr>\n",
              "      <th>1979</th>\n",
              "      <td>870804317367881728</td>\n",
              "      <td>https://pbs.twimg.com/media/DBW35ZsVoAEWZUU.jpg</td>\n",
              "      <td>1</td>\n",
              "      <td>home_theater</td>\n",
              "      <td>0.168290</td>\n",
              "      <td>False</td>\n",
              "      <td>sandbar</td>\n",
              "      <td>0.098040</td>\n",
              "      <td>False</td>\n",
              "      <td>television</td>\n",
              "      <td>0.079729</td>\n",
              "      <td>False</td>\n",
              "    </tr>\n",
              "  </tbody>\n",
              "</table>\n",
              "</div>"
            ],
            "text/plain": [
              "                tweet_id  ... p3_dog\n",
              "208   669970042633789440  ...   True\n",
              "667   682962037429899265  ...  False\n",
              "1401  768855141948723200  ...   True\n",
              "1459  778027034220126208  ...   True\n",
              "606   679877062409191424  ...  False\n",
              "887   699072405256409088  ...   True\n",
              "1899  851224888060895234  ...   True\n",
              "1572  795076730285391872  ...  False\n",
              "1750  823939628516474880  ...   True\n",
              "1979  870804317367881728  ...  False\n",
              "\n",
              "[10 rows x 12 columns]"
            ]
          },
          "metadata": {
            "tags": []
          },
          "execution_count": 86
        }
      ]
    },
    {
      "cell_type": "code",
      "metadata": {
        "id": "I--RGQwybpzO",
        "colab_type": "code",
        "outputId": "030ef377-6eaa-4942-85bd-2efadfde52e4",
        "colab": {
          "base_uri": "https://localhost:8080/",
          "height": 347
        }
      },
      "source": [
        "image_prediction.info()"
      ],
      "execution_count": 87,
      "outputs": [
        {
          "output_type": "stream",
          "text": [
            "<class 'pandas.core.frame.DataFrame'>\n",
            "RangeIndex: 2075 entries, 0 to 2074\n",
            "Data columns (total 12 columns):\n",
            " #   Column    Non-Null Count  Dtype  \n",
            "---  ------    --------------  -----  \n",
            " 0   tweet_id  2075 non-null   int64  \n",
            " 1   jpg_url   2075 non-null   object \n",
            " 2   img_num   2075 non-null   int64  \n",
            " 3   p1        2075 non-null   object \n",
            " 4   p1_conf   2075 non-null   float64\n",
            " 5   p1_dog    2075 non-null   bool   \n",
            " 6   p2        2075 non-null   object \n",
            " 7   p2_conf   2075 non-null   float64\n",
            " 8   p2_dog    2075 non-null   bool   \n",
            " 9   p3        2075 non-null   object \n",
            " 10  p3_conf   2075 non-null   float64\n",
            " 11  p3_dog    2075 non-null   bool   \n",
            "dtypes: bool(3), float64(3), int64(2), object(4)\n",
            "memory usage: 152.1+ KB\n"
          ],
          "name": "stdout"
        }
      ]
    },
    {
      "cell_type": "markdown",
      "metadata": {
        "id": "G_IEjfkfTyNz",
        "colab_type": "text"
      },
      "source": [
        "tweet_id should be string rather than int."
      ]
    },
    {
      "cell_type": "code",
      "metadata": {
        "id": "THO45e-PUVbY",
        "colab_type": "code",
        "outputId": "d6ec8612-cde5-4310-8798-884ca3442be6",
        "colab": {
          "base_uri": "https://localhost:8080/",
          "height": 217
        }
      },
      "source": [
        "image_prediction.p1.value_counts()"
      ],
      "execution_count": 88,
      "outputs": [
        {
          "output_type": "execute_result",
          "data": {
            "text/plain": [
              "golden_retriever      150\n",
              "Labrador_retriever    100\n",
              "Pembroke               89\n",
              "Chihuahua              83\n",
              "pug                    57\n",
              "                     ... \n",
              "pole                    1\n",
              "lynx                    1\n",
              "lion                    1\n",
              "traffic_light           1\n",
              "fire_engine             1\n",
              "Name: p1, Length: 378, dtype: int64"
            ]
          },
          "metadata": {
            "tags": []
          },
          "execution_count": 88
        }
      ]
    },
    {
      "cell_type": "code",
      "metadata": {
        "id": "1McO5b0dbtlT",
        "colab_type": "code",
        "outputId": "cd9edfe3-0746-4627-aa89-3e64d0f48980",
        "colab": {
          "base_uri": "https://localhost:8080/",
          "height": 217
        }
      },
      "source": [
        "image_prediction.p2.value_counts()"
      ],
      "execution_count": 89,
      "outputs": [
        {
          "output_type": "execute_result",
          "data": {
            "text/plain": [
              "Labrador_retriever    104\n",
              "golden_retriever       92\n",
              "Cardigan               73\n",
              "Chihuahua              44\n",
              "Pomeranian             42\n",
              "                     ... \n",
              "rain_barrel             1\n",
              "lesser_panda            1\n",
              "umbrella                1\n",
              "desk                    1\n",
              "mashed_potato           1\n",
              "Name: p2, Length: 405, dtype: int64"
            ]
          },
          "metadata": {
            "tags": []
          },
          "execution_count": 89
        }
      ]
    },
    {
      "cell_type": "markdown",
      "metadata": {
        "id": "iAlVOYJkUaVK",
        "colab_type": "text"
      },
      "source": [
        "The predictions for tweets have been other animals or things."
      ]
    },
    {
      "cell_type": "markdown",
      "metadata": {
        "id": "RzTn8j8MVcOn",
        "colab_type": "text"
      },
      "source": [
        "###**Tweets**\n",
        "\n",
        "####Visually"
      ]
    },
    {
      "cell_type": "code",
      "metadata": {
        "id": "ojZX5drdVIln",
        "colab_type": "code",
        "outputId": "c874c7bd-e5af-4aaf-cdd7-6783c727f95b",
        "colab": {
          "base_uri": "https://localhost:8080/",
          "height": 415
        }
      },
      "source": [
        "df_tweet_info"
      ],
      "execution_count": 90,
      "outputs": [
        {
          "output_type": "execute_result",
          "data": {
            "text/html": [
              "<div>\n",
              "<style scoped>\n",
              "    .dataframe tbody tr th:only-of-type {\n",
              "        vertical-align: middle;\n",
              "    }\n",
              "\n",
              "    .dataframe tbody tr th {\n",
              "        vertical-align: top;\n",
              "    }\n",
              "\n",
              "    .dataframe thead th {\n",
              "        text-align: right;\n",
              "    }\n",
              "</style>\n",
              "<table border=\"1\" class=\"dataframe\">\n",
              "  <thead>\n",
              "    <tr style=\"text-align: right;\">\n",
              "      <th></th>\n",
              "      <th>id</th>\n",
              "      <th>favorite_count</th>\n",
              "      <th>retweet_count</th>\n",
              "    </tr>\n",
              "  </thead>\n",
              "  <tbody>\n",
              "    <tr>\n",
              "      <th>0</th>\n",
              "      <td>892420643555336193</td>\n",
              "      <td>39467</td>\n",
              "      <td>8853</td>\n",
              "    </tr>\n",
              "    <tr>\n",
              "      <th>1</th>\n",
              "      <td>892177421306343426</td>\n",
              "      <td>33819</td>\n",
              "      <td>6514</td>\n",
              "    </tr>\n",
              "    <tr>\n",
              "      <th>2</th>\n",
              "      <td>891815181378084864</td>\n",
              "      <td>25461</td>\n",
              "      <td>4328</td>\n",
              "    </tr>\n",
              "    <tr>\n",
              "      <th>3</th>\n",
              "      <td>891689557279858688</td>\n",
              "      <td>42908</td>\n",
              "      <td>8964</td>\n",
              "    </tr>\n",
              "    <tr>\n",
              "      <th>4</th>\n",
              "      <td>891327558926688256</td>\n",
              "      <td>41048</td>\n",
              "      <td>9774</td>\n",
              "    </tr>\n",
              "    <tr>\n",
              "      <th>...</th>\n",
              "      <td>...</td>\n",
              "      <td>...</td>\n",
              "      <td>...</td>\n",
              "    </tr>\n",
              "    <tr>\n",
              "      <th>2349</th>\n",
              "      <td>666049248165822465</td>\n",
              "      <td>111</td>\n",
              "      <td>41</td>\n",
              "    </tr>\n",
              "    <tr>\n",
              "      <th>2350</th>\n",
              "      <td>666044226329800704</td>\n",
              "      <td>311</td>\n",
              "      <td>147</td>\n",
              "    </tr>\n",
              "    <tr>\n",
              "      <th>2351</th>\n",
              "      <td>666033412701032449</td>\n",
              "      <td>128</td>\n",
              "      <td>47</td>\n",
              "    </tr>\n",
              "    <tr>\n",
              "      <th>2352</th>\n",
              "      <td>666029285002620928</td>\n",
              "      <td>132</td>\n",
              "      <td>48</td>\n",
              "    </tr>\n",
              "    <tr>\n",
              "      <th>2353</th>\n",
              "      <td>666020888022790149</td>\n",
              "      <td>2535</td>\n",
              "      <td>532</td>\n",
              "    </tr>\n",
              "  </tbody>\n",
              "</table>\n",
              "<p>2354 rows × 3 columns</p>\n",
              "</div>"
            ],
            "text/plain": [
              "                      id  favorite_count  retweet_count\n",
              "0     892420643555336193           39467           8853\n",
              "1     892177421306343426           33819           6514\n",
              "2     891815181378084864           25461           4328\n",
              "3     891689557279858688           42908           8964\n",
              "4     891327558926688256           41048           9774\n",
              "...                  ...             ...            ...\n",
              "2349  666049248165822465             111             41\n",
              "2350  666044226329800704             311            147\n",
              "2351  666033412701032449             128             47\n",
              "2352  666029285002620928             132             48\n",
              "2353  666020888022790149            2535            532\n",
              "\n",
              "[2354 rows x 3 columns]"
            ]
          },
          "metadata": {
            "tags": []
          },
          "execution_count": 90
        }
      ]
    },
    {
      "cell_type": "code",
      "metadata": {
        "id": "Q1IVqqsuVjJD",
        "colab_type": "code",
        "outputId": "2e9581a7-baa8-487b-a096-0a3598cbffb2",
        "colab": {
          "base_uri": "https://localhost:8080/",
          "height": 191
        }
      },
      "source": [
        "df_tweet_info.info()"
      ],
      "execution_count": 91,
      "outputs": [
        {
          "output_type": "stream",
          "text": [
            "<class 'pandas.core.frame.DataFrame'>\n",
            "RangeIndex: 2354 entries, 0 to 2353\n",
            "Data columns (total 3 columns):\n",
            " #   Column          Non-Null Count  Dtype\n",
            "---  ------          --------------  -----\n",
            " 0   id              2354 non-null   int64\n",
            " 1   favorite_count  2354 non-null   int64\n",
            " 2   retweet_count   2354 non-null   int64\n",
            "dtypes: int64(3)\n",
            "memory usage: 55.3 KB\n"
          ],
          "name": "stdout"
        }
      ]
    },
    {
      "cell_type": "markdown",
      "metadata": {
        "id": "zrP6jjLNVrcE",
        "colab_type": "text"
      },
      "source": [
        "id should be String"
      ]
    },
    {
      "cell_type": "code",
      "metadata": {
        "id": "MTXuuNdpVluV",
        "colab_type": "code",
        "outputId": "f0d44fe2-ec6b-4007-a485-1587ad15c34f",
        "colab": {
          "base_uri": "https://localhost:8080/",
          "height": 294
        }
      },
      "source": [
        "df_tweet_info.describe()"
      ],
      "execution_count": 92,
      "outputs": [
        {
          "output_type": "execute_result",
          "data": {
            "text/html": [
              "<div>\n",
              "<style scoped>\n",
              "    .dataframe tbody tr th:only-of-type {\n",
              "        vertical-align: middle;\n",
              "    }\n",
              "\n",
              "    .dataframe tbody tr th {\n",
              "        vertical-align: top;\n",
              "    }\n",
              "\n",
              "    .dataframe thead th {\n",
              "        text-align: right;\n",
              "    }\n",
              "</style>\n",
              "<table border=\"1\" class=\"dataframe\">\n",
              "  <thead>\n",
              "    <tr style=\"text-align: right;\">\n",
              "      <th></th>\n",
              "      <th>id</th>\n",
              "      <th>favorite_count</th>\n",
              "      <th>retweet_count</th>\n",
              "    </tr>\n",
              "  </thead>\n",
              "  <tbody>\n",
              "    <tr>\n",
              "      <th>count</th>\n",
              "      <td>2.354000e+03</td>\n",
              "      <td>2354.000000</td>\n",
              "      <td>2354.000000</td>\n",
              "    </tr>\n",
              "    <tr>\n",
              "      <th>mean</th>\n",
              "      <td>7.426978e+17</td>\n",
              "      <td>8080.968564</td>\n",
              "      <td>3164.797366</td>\n",
              "    </tr>\n",
              "    <tr>\n",
              "      <th>std</th>\n",
              "      <td>6.852812e+16</td>\n",
              "      <td>11814.771334</td>\n",
              "      <td>5284.770364</td>\n",
              "    </tr>\n",
              "    <tr>\n",
              "      <th>min</th>\n",
              "      <td>6.660209e+17</td>\n",
              "      <td>0.000000</td>\n",
              "      <td>0.000000</td>\n",
              "    </tr>\n",
              "    <tr>\n",
              "      <th>25%</th>\n",
              "      <td>6.783975e+17</td>\n",
              "      <td>1415.000000</td>\n",
              "      <td>624.500000</td>\n",
              "    </tr>\n",
              "    <tr>\n",
              "      <th>50%</th>\n",
              "      <td>7.194596e+17</td>\n",
              "      <td>3603.500000</td>\n",
              "      <td>1473.500000</td>\n",
              "    </tr>\n",
              "    <tr>\n",
              "      <th>75%</th>\n",
              "      <td>7.993058e+17</td>\n",
              "      <td>10122.250000</td>\n",
              "      <td>3652.000000</td>\n",
              "    </tr>\n",
              "    <tr>\n",
              "      <th>max</th>\n",
              "      <td>8.924206e+17</td>\n",
              "      <td>132810.000000</td>\n",
              "      <td>79515.000000</td>\n",
              "    </tr>\n",
              "  </tbody>\n",
              "</table>\n",
              "</div>"
            ],
            "text/plain": [
              "                 id  favorite_count  retweet_count\n",
              "count  2.354000e+03     2354.000000    2354.000000\n",
              "mean   7.426978e+17     8080.968564    3164.797366\n",
              "std    6.852812e+16    11814.771334    5284.770364\n",
              "min    6.660209e+17        0.000000       0.000000\n",
              "25%    6.783975e+17     1415.000000     624.500000\n",
              "50%    7.194596e+17     3603.500000    1473.500000\n",
              "75%    7.993058e+17    10122.250000    3652.000000\n",
              "max    8.924206e+17   132810.000000   79515.000000"
            ]
          },
          "metadata": {
            "tags": []
          },
          "execution_count": 92
        }
      ]
    },
    {
      "cell_type": "code",
      "metadata": {
        "id": "ViR1tauBV7o8",
        "colab_type": "code",
        "outputId": "90265bd2-b64e-4448-dff6-bd339588f3b9",
        "colab": {
          "base_uri": "https://localhost:8080/",
          "height": 35
        }
      },
      "source": [
        "df_tweet_info.duplicated().sum()"
      ],
      "execution_count": 93,
      "outputs": [
        {
          "output_type": "execute_result",
          "data": {
            "text/plain": [
              "0"
            ]
          },
          "metadata": {
            "tags": []
          },
          "execution_count": 93
        }
      ]
    },
    {
      "cell_type": "markdown",
      "metadata": {
        "id": "7YntPX4acLS7",
        "colab_type": "text"
      },
      "source": [
        "**Assess**\n",
        "Following issues have been assessed:\n",
        "\n",
        "1- Quality\n",
        "\n",
        "2- Tidiness \n",
        "\n",
        "##Quality Issues:\n",
        "\n",
        "The four main data quality dimensions are:\n",
        "\n",
        "Completeness: Missing data\n",
        "\n",
        "Validity: does the data make sense\n",
        "\n",
        "Accuracy: inaccurate data\n",
        "\n",
        "Consistency: standardization\n",
        "\n",
        "**twitter_archive:**\n",
        "\n",
        "In several columns null objects are non-null (None instead of NaN).\n",
        "\n",
        "Source column has the HTML tags \n",
        "\n",
        "tweet_id is int but should be string\n",
        "\n",
        "'retweeted_status_timestamp' and 'timestamp' should be datetime instead of object(string).\n",
        "\n",
        "'in_reply_to_status_id', 'in_reply_to_user_id', 'retweeted_status_id', 'retweeted_status_user_id' should be integers/strings instead of float.\n",
        "\n",
        "Missing values in 'expanded_urls'\n",
        "\n",
        "'tweet_id' should be string not int\n",
        "\n",
        "some names are not actual names\n",
        "\n",
        "retweets not required\n",
        "\n",
        "rating_numerator and rating_denominator has values that are not correctly extracted and some tweet texts have more than 1 fractional values for ratings.\n",
        "\n",
        "**image_predictions:**\n",
        "\n",
        "p1, p2, p3 columns have inconsistent capitalization \n",
        "\n",
        "The underscores visible in the predictions columns make the data look a little untidy and underprepared.\n",
        "\n",
        "On visually assessing this table, I can see that some of the predictions in the p1 column aren't breeds of dogs but other animals or non-living things and on checking out the corresponding image urls on a browser myself, I found out that a lot of these images didn't have any dogs in them. Thus such tweets are invalid.\n",
        "\n",
        "tweet_id should be string rather than int.\n",
        "\n",
        "\n",
        "**tweets:**\n",
        "\n",
        "Incorrect datatype of id: should be string\n",
        "\n",
        "##Tidiness Issues\n",
        "\n",
        "\n",
        "Three requirements for tidiness:\n",
        "\n",
        "Each variable forms a column\n",
        "\n",
        "Each observation forms a row\n",
        "\n",
        "Each type of observational unit forms a table\n",
        "\n",
        "**twitter_archive**\n",
        "\n",
        "Dog \"stage\" variable in four columns: doggo, floofer, pupper, puppo and some tweets contain more than one dog stage\n",
        "\n",
        "**image_predictions**\n",
        "\n",
        "Three data frames df_twitter_archive, df_image_predictions, and df_tweet_info should be one (combined table) since all tables' entries are each describing one tweet, So join 'tweet_info' and 'image_predictions' to 'twitter_archive'\n"
      ]
    },
    {
      "cell_type": "markdown",
      "metadata": {
        "id": "tmatJ0uImu0g",
        "colab_type": "text"
      },
      "source": [
        "\n",
        "#Step 3: Clean Data\n",
        "\n",
        "Fix the quality and tidiness issues that we identified in the assess step.\n",
        "\n",
        "For each problem, we will:\n",
        "\n",
        "Define \n",
        "\n",
        "Code\n",
        "\n",
        "Test \n",
        "\n",
        "\n",
        "\n"
      ]
    },
    {
      "cell_type": "code",
      "metadata": {
        "id": "GtaosGCFc9-f",
        "colab_type": "code",
        "colab": {}
      },
      "source": [
        "#copy dataframes\n",
        "tweet_data_clean = df_tweet_info.copy()\n",
        "twitter_archive_clean = twitter_archive.copy()\n",
        "image_predictions_clean= image_prediction.copy()"
      ],
      "execution_count": 0,
      "outputs": []
    },
    {
      "cell_type": "markdown",
      "metadata": {
        "id": "YSmqkSsPB5IJ",
        "colab_type": "text"
      },
      "source": [
        "#Twitter archives table\n",
        "\n",
        "###Problem 1:\n",
        "**Define**\n",
        "\n",
        "Remove all the retweets by removing all the rows with non null values in retweeted_status_id."
      ]
    },
    {
      "cell_type": "markdown",
      "metadata": {
        "id": "A2he2jj1CIz0",
        "colab_type": "text"
      },
      "source": [
        "**Code**"
      ]
    },
    {
      "cell_type": "code",
      "metadata": {
        "id": "3i_bOI3oB8z5",
        "colab_type": "code",
        "colab": {}
      },
      "source": [
        "#subsetting the table over all the rows having null values in the retweeted_status_id column\n",
        "twitter_archive_clean = twitter_archive_clean[twitter_archive_clean.retweeted_status_id.isnull()]"
      ],
      "execution_count": 0,
      "outputs": []
    },
    {
      "cell_type": "markdown",
      "metadata": {
        "id": "Xu9U9OAPCKoY",
        "colab_type": "text"
      },
      "source": [
        "**Test**"
      ]
    },
    {
      "cell_type": "code",
      "metadata": {
        "id": "zoUYrFwmCMtw",
        "colab_type": "code",
        "outputId": "21f27793-f5a6-4351-86cc-b2146a63b1c4",
        "colab": {
          "base_uri": "https://localhost:8080/",
          "height": 69
        }
      },
      "source": [
        "twitter_archive_clean[twitter_archive_clean.retweeted_status_id.notnull()]"
      ],
      "execution_count": 96,
      "outputs": [
        {
          "output_type": "execute_result",
          "data": {
            "text/html": [
              "<div>\n",
              "<style scoped>\n",
              "    .dataframe tbody tr th:only-of-type {\n",
              "        vertical-align: middle;\n",
              "    }\n",
              "\n",
              "    .dataframe tbody tr th {\n",
              "        vertical-align: top;\n",
              "    }\n",
              "\n",
              "    .dataframe thead th {\n",
              "        text-align: right;\n",
              "    }\n",
              "</style>\n",
              "<table border=\"1\" class=\"dataframe\">\n",
              "  <thead>\n",
              "    <tr style=\"text-align: right;\">\n",
              "      <th></th>\n",
              "      <th>tweet_id</th>\n",
              "      <th>in_reply_to_status_id</th>\n",
              "      <th>in_reply_to_user_id</th>\n",
              "      <th>timestamp</th>\n",
              "      <th>source</th>\n",
              "      <th>text</th>\n",
              "      <th>retweeted_status_id</th>\n",
              "      <th>retweeted_status_user_id</th>\n",
              "      <th>retweeted_status_timestamp</th>\n",
              "      <th>expanded_urls</th>\n",
              "      <th>rating_numerator</th>\n",
              "      <th>rating_denominator</th>\n",
              "      <th>name</th>\n",
              "      <th>doggo</th>\n",
              "      <th>floofer</th>\n",
              "      <th>pupper</th>\n",
              "      <th>puppo</th>\n",
              "    </tr>\n",
              "  </thead>\n",
              "  <tbody>\n",
              "  </tbody>\n",
              "</table>\n",
              "</div>"
            ],
            "text/plain": [
              "Empty DataFrame\n",
              "Columns: [tweet_id, in_reply_to_status_id, in_reply_to_user_id, timestamp, source, text, retweeted_status_id, retweeted_status_user_id, retweeted_status_timestamp, expanded_urls, rating_numerator, rating_denominator, name, doggo, floofer, pupper, puppo]\n",
              "Index: []"
            ]
          },
          "metadata": {
            "tags": []
          },
          "execution_count": 96
        }
      ]
    },
    {
      "cell_type": "markdown",
      "metadata": {
        "id": "80QxPSu2CfC4",
        "colab_type": "text"
      },
      "source": [
        "###Problem 2:\n",
        "\n",
        "**Define**\n",
        "\n",
        "Drop the in_reply_to_status_id, in_reply_to_user_id, retweeted_status_id, retweeted_status_user_id and retweeted_status_timestamp columns."
      ]
    },
    {
      "cell_type": "markdown",
      "metadata": {
        "id": "UhGjIqmnCnkv",
        "colab_type": "text"
      },
      "source": [
        "**Code**"
      ]
    },
    {
      "cell_type": "code",
      "metadata": {
        "id": "nV7XZ7N1Cg2e",
        "colab_type": "code",
        "colab": {}
      },
      "source": [
        "twitter_archive_clean = twitter_archive_clean.drop(['in_reply_to_status_id', 'in_reply_to_user_id',\n",
        "                                                      'retweeted_status_id', 'retweeted_status_user_id',\n",
        "                                                      'retweeted_status_timestamp'], axis = 1)"
      ],
      "execution_count": 0,
      "outputs": []
    },
    {
      "cell_type": "markdown",
      "metadata": {
        "id": "iPuXc4GxCpOQ",
        "colab_type": "text"
      },
      "source": [
        "**Test**"
      ]
    },
    {
      "cell_type": "code",
      "metadata": {
        "id": "i2uEmfASCqtC",
        "colab_type": "code",
        "outputId": "f7a78a83-3e8b-4f28-933b-71f9670d79d3",
        "colab": {
          "base_uri": "https://localhost:8080/",
          "height": 391
        }
      },
      "source": [
        "twitter_archive_clean.head(3)"
      ],
      "execution_count": 98,
      "outputs": [
        {
          "output_type": "execute_result",
          "data": {
            "text/html": [
              "<div>\n",
              "<style scoped>\n",
              "    .dataframe tbody tr th:only-of-type {\n",
              "        vertical-align: middle;\n",
              "    }\n",
              "\n",
              "    .dataframe tbody tr th {\n",
              "        vertical-align: top;\n",
              "    }\n",
              "\n",
              "    .dataframe thead th {\n",
              "        text-align: right;\n",
              "    }\n",
              "</style>\n",
              "<table border=\"1\" class=\"dataframe\">\n",
              "  <thead>\n",
              "    <tr style=\"text-align: right;\">\n",
              "      <th></th>\n",
              "      <th>tweet_id</th>\n",
              "      <th>timestamp</th>\n",
              "      <th>source</th>\n",
              "      <th>text</th>\n",
              "      <th>expanded_urls</th>\n",
              "      <th>rating_numerator</th>\n",
              "      <th>rating_denominator</th>\n",
              "      <th>name</th>\n",
              "      <th>doggo</th>\n",
              "      <th>floofer</th>\n",
              "      <th>pupper</th>\n",
              "      <th>puppo</th>\n",
              "    </tr>\n",
              "  </thead>\n",
              "  <tbody>\n",
              "    <tr>\n",
              "      <th>0</th>\n",
              "      <td>892420643555336193</td>\n",
              "      <td>2017-08-01 16:23:56 +0000</td>\n",
              "      <td>&lt;a href=\"http://twitter.com/download/iphone\" r...</td>\n",
              "      <td>This is Phineas. He's a mystical boy. Only eve...</td>\n",
              "      <td>https://twitter.com/dog_rates/status/892420643...</td>\n",
              "      <td>13</td>\n",
              "      <td>10</td>\n",
              "      <td>Phineas</td>\n",
              "      <td>None</td>\n",
              "      <td>None</td>\n",
              "      <td>None</td>\n",
              "      <td>None</td>\n",
              "    </tr>\n",
              "    <tr>\n",
              "      <th>1</th>\n",
              "      <td>892177421306343426</td>\n",
              "      <td>2017-08-01 00:17:27 +0000</td>\n",
              "      <td>&lt;a href=\"http://twitter.com/download/iphone\" r...</td>\n",
              "      <td>This is Tilly. She's just checking pup on you....</td>\n",
              "      <td>https://twitter.com/dog_rates/status/892177421...</td>\n",
              "      <td>13</td>\n",
              "      <td>10</td>\n",
              "      <td>Tilly</td>\n",
              "      <td>None</td>\n",
              "      <td>None</td>\n",
              "      <td>None</td>\n",
              "      <td>None</td>\n",
              "    </tr>\n",
              "    <tr>\n",
              "      <th>2</th>\n",
              "      <td>891815181378084864</td>\n",
              "      <td>2017-07-31 00:18:03 +0000</td>\n",
              "      <td>&lt;a href=\"http://twitter.com/download/iphone\" r...</td>\n",
              "      <td>This is Archie. He is a rare Norwegian Pouncin...</td>\n",
              "      <td>https://twitter.com/dog_rates/status/891815181...</td>\n",
              "      <td>12</td>\n",
              "      <td>10</td>\n",
              "      <td>Archie</td>\n",
              "      <td>None</td>\n",
              "      <td>None</td>\n",
              "      <td>None</td>\n",
              "      <td>None</td>\n",
              "    </tr>\n",
              "  </tbody>\n",
              "</table>\n",
              "</div>"
            ],
            "text/plain": [
              "             tweet_id                  timestamp  ... pupper puppo\n",
              "0  892420643555336193  2017-08-01 16:23:56 +0000  ...   None  None\n",
              "1  892177421306343426  2017-08-01 00:17:27 +0000  ...   None  None\n",
              "2  891815181378084864  2017-07-31 00:18:03 +0000  ...   None  None\n",
              "\n",
              "[3 rows x 12 columns]"
            ]
          },
          "metadata": {
            "tags": []
          },
          "execution_count": 98
        }
      ]
    },
    {
      "cell_type": "markdown",
      "metadata": {
        "id": "Bv9xH7Q-DUZt",
        "colab_type": "text"
      },
      "source": [
        "###Problem 3:\n",
        "\n",
        "**Define**\n",
        "\n",
        "Make the source column readable by replacing the urls in it by the source name "
      ]
    },
    {
      "cell_type": "markdown",
      "metadata": {
        "id": "ogC4LDzFDYwo",
        "colab_type": "text"
      },
      "source": [
        "**Code**"
      ]
    },
    {
      "cell_type": "code",
      "metadata": {
        "id": "cNWgifYxY3j2",
        "colab_type": "code",
        "outputId": "93635892-73b0-4253-9fbf-9f4129a1e536",
        "colab": {
          "base_uri": "https://localhost:8080/",
          "height": 104
        }
      },
      "source": [
        "twitter_archive_clean.source.value_counts()"
      ],
      "execution_count": 99,
      "outputs": [
        {
          "output_type": "execute_result",
          "data": {
            "text/plain": [
              "<a href=\"http://twitter.com/download/iphone\" rel=\"nofollow\">Twitter for iPhone</a>     2042\n",
              "<a href=\"http://vine.co\" rel=\"nofollow\">Vine - Make a Scene</a>                          91\n",
              "<a href=\"http://twitter.com\" rel=\"nofollow\">Twitter Web Client</a>                       31\n",
              "<a href=\"https://about.twitter.com/products/tweetdeck\" rel=\"nofollow\">TweetDeck</a>      11\n",
              "Name: source, dtype: int64"
            ]
          },
          "metadata": {
            "tags": []
          },
          "execution_count": 99
        }
      ]
    },
    {
      "cell_type": "code",
      "metadata": {
        "id": "38TqPPV4DaYh",
        "colab_type": "code",
        "colab": {}
      },
      "source": [
        "#the source column has only 3 different values, thus assigning each value to a different variable  \n",
        "a = '<a href=\"http://twitter.com/download/iphone\" rel=\"nofollow\">Twitter for iPhone</a>'\n",
        "b = '<a href=\"http://twitter.com\" rel=\"nofollow\">Twitter Web Client</a>'\n",
        "c = '<a href=\"https://about.twitter.com/products/tweetdeck\" rel=\"nofollow\">TweetDeck</a>'"
      ],
      "execution_count": 0,
      "outputs": []
    },
    {
      "cell_type": "code",
      "metadata": {
        "id": "Cg96CR_eDee6",
        "colab_type": "code",
        "colab": {}
      },
      "source": [
        "#using the variables created above in the replace function \n",
        "twitter_archive_clean.source = twitter_archive_clean.source.replace(a, 'Twitter for iPhone')\n",
        "twitter_archive_clean.source = twitter_archive_clean.source.replace(b, 'Twitter Web Client')\n",
        "twitter_archive_clean.source = twitter_archive_clean.source.replace(c, 'TweetDeck')"
      ],
      "execution_count": 0,
      "outputs": []
    },
    {
      "cell_type": "markdown",
      "metadata": {
        "id": "LBeSyiASDmMg",
        "colab_type": "text"
      },
      "source": [
        "**Test**"
      ]
    },
    {
      "cell_type": "code",
      "metadata": {
        "id": "gP32toemDnrw",
        "colab_type": "code",
        "outputId": "4886492e-bba2-41de-d0a6-0658ee05e463",
        "colab": {
          "base_uri": "https://localhost:8080/",
          "height": 104
        }
      },
      "source": [
        "twitter_archive_clean.source.value_counts()"
      ],
      "execution_count": 102,
      "outputs": [
        {
          "output_type": "execute_result",
          "data": {
            "text/plain": [
              "Twitter for iPhone                                                 2042\n",
              "<a href=\"http://vine.co\" rel=\"nofollow\">Vine - Make a Scene</a>      91\n",
              "Twitter Web Client                                                   31\n",
              "TweetDeck                                                            11\n",
              "Name: source, dtype: int64"
            ]
          },
          "metadata": {
            "tags": []
          },
          "execution_count": 102
        }
      ]
    },
    {
      "cell_type": "markdown",
      "metadata": {
        "id": "-bpfAIYCnKWr",
        "colab_type": "text"
      },
      "source": [
        "###Problem 4:\n",
        "\n",
        "**Define**\n",
        "\n",
        "Melt the 'doggo', 'floofer', 'pupper' and 'puppo' columns into one column 'dog_stage' and handle tweets that contain more than one dog stage"
      ]
    },
    {
      "cell_type": "markdown",
      "metadata": {
        "id": "BkuwO7LonfA-",
        "colab_type": "text"
      },
      "source": [
        "**Code**"
      ]
    },
    {
      "cell_type": "code",
      "metadata": {
        "id": "2lAxP9pUUm2k",
        "colab_type": "code",
        "colab": {}
      },
      "source": [
        "# handle none\n",
        "twitter_archive_clean.doggo.replace('None', '', inplace=True)\n",
        "twitter_archive_clean.floofer.replace('None', '', inplace=True)\n",
        "twitter_archive_clean.pupper.replace('None', '', inplace=True)\n",
        "twitter_archive_clean.puppo.replace('None', '', inplace=True)\n",
        "\n",
        "# merge into column\n",
        "twitter_archive_clean['dog_stage'] = twitter_archive_clean.doggo + twitter_archive_clean.floofer + twitter_archive_clean.pupper + twitter_archive_clean.puppo\n",
        "\n",
        "# handle multiple stages\n",
        "twitter_archive_clean.loc[twitter_archive_clean.dog_stage == 'doggopupper', 'dog_stage'] = 'doggo, pupper'\n",
        "twitter_archive_clean.loc[twitter_archive_clean.dog_stage == 'doggopuppo', 'dog_stage'] = 'doggo, puppo'\n",
        "twitter_archive_clean.loc[twitter_archive_clean.dog_stage == 'doggofloofer', 'dog_stage'] = 'doggo, floofer'\n",
        "\n",
        "# handle missing values\n",
        "twitter_archive_clean.loc[twitter_archive_clean.dog_stage == '', 'dog_stage'] = np.nan"
      ],
      "execution_count": 0,
      "outputs": []
    },
    {
      "cell_type": "markdown",
      "metadata": {
        "id": "P9nilSTMniGY",
        "colab_type": "text"
      },
      "source": [
        "**Test**"
      ]
    },
    {
      "cell_type": "code",
      "metadata": {
        "id": "mvzm7elXoAAM",
        "colab_type": "code",
        "outputId": "fa783ad7-6fcb-49b0-de20-5c4ac0405212",
        "colab": {
          "base_uri": "https://localhost:8080/",
          "height": 483
        }
      },
      "source": [
        "print(twitter_archive_clean.dog_stage.value_counts())\n",
        "twitter_archive_clean.info()"
      ],
      "execution_count": 104,
      "outputs": [
        {
          "output_type": "stream",
          "text": [
            "pupper            224\n",
            "doggo              75\n",
            "puppo              24\n",
            "doggo, pupper      10\n",
            "floofer             9\n",
            "doggo, floofer      1\n",
            "doggo, puppo        1\n",
            "Name: dog_stage, dtype: int64\n",
            "<class 'pandas.core.frame.DataFrame'>\n",
            "Int64Index: 2175 entries, 0 to 2355\n",
            "Data columns (total 13 columns):\n",
            " #   Column              Non-Null Count  Dtype \n",
            "---  ------              --------------  ----- \n",
            " 0   tweet_id            2175 non-null   int64 \n",
            " 1   timestamp           2175 non-null   object\n",
            " 2   source              2175 non-null   object\n",
            " 3   text                2175 non-null   object\n",
            " 4   expanded_urls       2117 non-null   object\n",
            " 5   rating_numerator    2175 non-null   int64 \n",
            " 6   rating_denominator  2175 non-null   int64 \n",
            " 7   name                2175 non-null   object\n",
            " 8   doggo               2175 non-null   object\n",
            " 9   floofer             2175 non-null   object\n",
            " 10  pupper              2175 non-null   object\n",
            " 11  puppo               2175 non-null   object\n",
            " 12  dog_stage           344 non-null    object\n",
            "dtypes: int64(3), object(10)\n",
            "memory usage: 237.9+ KB\n"
          ],
          "name": "stdout"
        }
      ]
    },
    {
      "cell_type": "markdown",
      "metadata": {
        "id": "cfksszPclhn3",
        "colab_type": "text"
      },
      "source": [
        "###Problem 5:\n",
        "\n",
        "**Define**\n",
        "\n",
        "Fix rating numerator and denominators that are not actually ratings and correctly extracted"
      ]
    },
    {
      "cell_type": "markdown",
      "metadata": {
        "id": "YnnZRL7ISxZK",
        "colab_type": "text"
      },
      "source": [
        "**Code**"
      ]
    },
    {
      "cell_type": "code",
      "metadata": {
        "id": "fBTFRaJ8lqD1",
        "colab_type": "code",
        "outputId": "a1425524-0092-4399-8df9-b4592562814f",
        "colab": {
          "base_uri": "https://localhost:8080/",
          "height": 70
        }
      },
      "source": [
        "import re\n",
        "# View all occurences where there are more than one #/# in 'text' column\n",
        "text_ratings_to_fix = twitter_archive_clean[twitter_archive_clean.text.str.contains( r\"(\\d+\\.?\\d*\\/\\d+\\.?\\d*\\D+\\d+\\.?\\d*\\/\\d+\\.?\\d*)\")].text"
      ],
      "execution_count": 105,
      "outputs": [
        {
          "output_type": "stream",
          "text": [
            "/usr/local/lib/python3.6/dist-packages/pandas/core/strings.py:1954: UserWarning: This pattern has match groups. To actually get the groups, use str.extract.\n",
            "  return func(self, *args, **kwargs)\n"
          ],
          "name": "stderr"
        }
      ]
    },
    {
      "cell_type": "code",
      "metadata": {
        "id": "rgkvytLWYPpc",
        "colab_type": "code",
        "colab": {
          "base_uri": "https://localhost:8080/",
          "height": 533
        },
        "outputId": "61e34f53-513d-4d09-a75c-eb399c8f05b2"
      },
      "source": [
        "text_ratings_to_fix"
      ],
      "execution_count": 106,
      "outputs": [
        {
          "output_type": "execute_result",
          "data": {
            "text/plain": [
              "55      @roushfenway These are good dogs but 17/10 is ...\n",
              "313     @jonnysun @Lin_Manuel ok jomny I know you're e...\n",
              "766     \"Yep... just as I suspected. You're not flossi...\n",
              "1007    This is Bookstore and Seaweed. Bookstore is ti...\n",
              "1068    After so many requests, this is Bretagne. She ...\n",
              "1165    Happy 4/20 from the squad! 13/10 for all https...\n",
              "1202    This is Bluebert. He just saw that both #Final...\n",
              "1222    Meet Travis and Flurp. Travis is pretty chill ...\n",
              "1359    This is Socks. That water pup w the super legs...\n",
              "1459    This may be the greatest video I've ever been ...\n",
              "1465    Meet Oliviér. He takes killer selfies. Has a d...\n",
              "1508    When bae says they can't go out but you see th...\n",
              "1525    This is Eriq. His friend just reminded him of ...\n",
              "1538    Meet Fynn &amp; Taco. Fynn is an all-powerful ...\n",
              "1662    This is Darrel. He just robbed a 7/11 and is i...\n",
              "1795    Meet Tassy &amp; Bee. Tassy is pretty chill, b...\n",
              "1832    These two pups just met and have instantly bon...\n",
              "1897    Meet Rufio. He is unaware of the pink legless ...\n",
              "1901    Two gorgeous dogs here. Little waddling dog is...\n",
              "1970    Meet Eve. She's a raging alcoholic 8/10 (would...\n",
              "2010    10/10 for dog. 7/10 for cat. 12/10 for human. ...\n",
              "2064    Meet Holly. She's trying to teach small human-...\n",
              "2113    Meet Hank and Sully. Hank is very proud of the...\n",
              "2177    Here we have Pancho and Peaches. Pancho is a C...\n",
              "2216    This is Spark. He's nervous. Other dog hasn't ...\n",
              "2263    This is Kial. Kial is either wearing a cape, w...\n",
              "2272    Two dogs in this one. Both are rare Jujitsu Py...\n",
              "2298    After much debate this dog is being upgraded t...\n",
              "2306    These are Peruvian Feldspars. Their names are ...\n",
              "2335    This is an Albanian 3 1/2 legged  Episcopalian...\n",
              "Name: text, dtype: object"
            ]
          },
          "metadata": {
            "tags": []
          },
          "execution_count": 106
        }
      ]
    },
    {
      "cell_type": "code",
      "metadata": {
        "id": "XCezQZ82lw7N",
        "colab_type": "code",
        "colab": {}
      },
      "source": [
        "for entry in text_ratings_to_fix:\n",
        "    mask = twitter_archive_clean.text == entry\n",
        "    column_name1 = 'rating_numerator'\n",
        "    column_name2 = 'rating_denominator'\n",
        "    twitter_archive_clean.loc[mask, column_name1] = re.findall(r\"\\d+\\.?\\d*\\/\\d+\\.?\\d*\\D+(\\d+\\.?\\d*)\\/\\d+\\.?\\d*\", entry)"
      ],
      "execution_count": 0,
      "outputs": []
    },
    {
      "cell_type": "code",
      "metadata": {
        "id": "eQk_K6hcXf5J",
        "colab_type": "code",
        "colab": {}
      },
      "source": [
        "#Fix rating values that are not correctly extracted\n",
        "rating = twitter_archive_clean.text.str.extract('((?:\\d+\\.)?\\d+)\\/(\\d+)', expand=True)\n",
        "rating.columns = ['rating_numerator', 'rating_denominator']"
      ],
      "execution_count": 0,
      "outputs": []
    },
    {
      "cell_type": "markdown",
      "metadata": {
        "id": "HXoG1rt-TEIE",
        "colab_type": "text"
      },
      "source": [
        "**Test**"
      ]
    },
    {
      "cell_type": "code",
      "metadata": {
        "id": "g38NYryNXnal",
        "colab_type": "code",
        "colab": {
          "base_uri": "https://localhost:8080/",
          "height": 225
        },
        "outputId": "ca71d644-96b0-480e-e0a0-161cfb52183e"
      },
      "source": [
        "twitter_archive_clean.rating_numerator\n"
      ],
      "execution_count": 109,
      "outputs": [
        {
          "output_type": "execute_result",
          "data": {
            "text/plain": [
              "0       13\n",
              "1       13\n",
              "2       12\n",
              "3       13\n",
              "4       12\n",
              "        ..\n",
              "2351     5\n",
              "2352     6\n",
              "2353     9\n",
              "2354     7\n",
              "2355     8\n",
              "Name: rating_numerator, Length: 2175, dtype: object"
            ]
          },
          "metadata": {
            "tags": []
          },
          "execution_count": 109
        }
      ]
    },
    {
      "cell_type": "markdown",
      "metadata": {
        "id": "yUUXUscEmPc5",
        "colab_type": "text"
      },
      "source": [
        "###Problem 6:\n",
        "\n",
        "**Define**\n",
        "\n",
        "Add missing expanded_urls"
      ]
    },
    {
      "cell_type": "markdown",
      "metadata": {
        "id": "nwrZvASDnLHN",
        "colab_type": "text"
      },
      "source": [
        "**Code**"
      ]
    },
    {
      "cell_type": "code",
      "metadata": {
        "id": "xuwi3PNInKed",
        "colab_type": "code",
        "colab": {}
      },
      "source": [
        "# If expanded_urls is null, add by using tweet id\n",
        "def add_urls(row):\n",
        "    # Don't do anything if expanded_urls is not null\n",
        "    if pd.notnull(row['expanded_urls']):\n",
        "        return row\n",
        "    else:\n",
        "        # Get tweet_id\n",
        "        tweet_id = row['tweet_id']\n",
        "        # Make new URL and save into expanded_urls\n",
        "        row['expanded_urls'] = 'https://twitter.com/dog_rates/status/{}'.format(tweet_id)\n",
        "        # return updated row\n",
        "        return row\n",
        "\n",
        "# Save dataframe with missing urls\n",
        "twitter_archive_clean = twitter_archive_clean.apply(add_urls, axis=1)"
      ],
      "execution_count": 0,
      "outputs": []
    },
    {
      "cell_type": "markdown",
      "metadata": {
        "id": "IcwCVsx5nmhy",
        "colab_type": "text"
      },
      "source": [
        "**Test**"
      ]
    },
    {
      "cell_type": "code",
      "metadata": {
        "id": "afz0YjREno5_",
        "colab_type": "code",
        "outputId": "568d4748-9409-4263-c741-e455574f2e68",
        "colab": {
          "base_uri": "https://localhost:8080/",
          "height": 69
        }
      },
      "source": [
        "# Check that there are no empty expanded_urls\n",
        "twitter_archive_clean[twitter_archive_clean['expanded_urls'].isnull()]"
      ],
      "execution_count": 111,
      "outputs": [
        {
          "output_type": "execute_result",
          "data": {
            "text/html": [
              "<div>\n",
              "<style scoped>\n",
              "    .dataframe tbody tr th:only-of-type {\n",
              "        vertical-align: middle;\n",
              "    }\n",
              "\n",
              "    .dataframe tbody tr th {\n",
              "        vertical-align: top;\n",
              "    }\n",
              "\n",
              "    .dataframe thead th {\n",
              "        text-align: right;\n",
              "    }\n",
              "</style>\n",
              "<table border=\"1\" class=\"dataframe\">\n",
              "  <thead>\n",
              "    <tr style=\"text-align: right;\">\n",
              "      <th></th>\n",
              "      <th>tweet_id</th>\n",
              "      <th>timestamp</th>\n",
              "      <th>source</th>\n",
              "      <th>text</th>\n",
              "      <th>expanded_urls</th>\n",
              "      <th>rating_numerator</th>\n",
              "      <th>rating_denominator</th>\n",
              "      <th>name</th>\n",
              "      <th>doggo</th>\n",
              "      <th>floofer</th>\n",
              "      <th>pupper</th>\n",
              "      <th>puppo</th>\n",
              "      <th>dog_stage</th>\n",
              "    </tr>\n",
              "  </thead>\n",
              "  <tbody>\n",
              "  </tbody>\n",
              "</table>\n",
              "</div>"
            ],
            "text/plain": [
              "Empty DataFrame\n",
              "Columns: [tweet_id, timestamp, source, text, expanded_urls, rating_numerator, rating_denominator, name, doggo, floofer, pupper, puppo, dog_stage]\n",
              "Index: []"
            ]
          },
          "metadata": {
            "tags": []
          },
          "execution_count": 111
        }
      ]
    },
    {
      "cell_type": "markdown",
      "metadata": {
        "id": "3S0sJGNzoP_R",
        "colab_type": "text"
      },
      "source": [
        "###Problem 7:\n",
        "\n",
        "**Define**\n",
        "\n",
        "Change datatypes ."
      ]
    },
    {
      "cell_type": "markdown",
      "metadata": {
        "id": "4Z7nAA2A47W6",
        "colab_type": "text"
      },
      "source": [
        "**Code**"
      ]
    },
    {
      "cell_type": "code",
      "metadata": {
        "id": "euoDx-nxoJ5H",
        "colab_type": "code",
        "colab": {}
      },
      "source": [
        "twitter_archive_clean['tweet_id'] = twitter_archive_clean['tweet_id'].astype(str)\n",
        "twitter_archive_clean['timestamp'] = pd.to_datetime(twitter_archive_clean.timestamp)\n",
        "twitter_archive_clean['source'] = twitter_archive_clean['source'].astype('category')\n",
        "twitter_archive_clean['dog_stage'] = twitter_archive_clean['dog_stage'].astype('category')\n",
        "twitter_archive_clean['rating_numerator'] = twitter_archive_clean['rating_numerator'].astype(float)\n",
        "twitter_archive_clean['rating_denominator'] = twitter_archive_clean['rating_denominator'].astype(float)"
      ],
      "execution_count": 0,
      "outputs": []
    },
    {
      "cell_type": "markdown",
      "metadata": {
        "id": "ljYrhl2P51o3",
        "colab_type": "text"
      },
      "source": [
        "**Test**"
      ]
    },
    {
      "cell_type": "code",
      "metadata": {
        "id": "VutFnVPp49jh",
        "colab_type": "code",
        "outputId": "c62ce488-2fb4-44d6-f16e-0baf5d915d14",
        "colab": {
          "base_uri": "https://localhost:8080/",
          "height": 260
        }
      },
      "source": [
        "twitter_archive_clean.dtypes"
      ],
      "execution_count": 113,
      "outputs": [
        {
          "output_type": "execute_result",
          "data": {
            "text/plain": [
              "tweet_id                           object\n",
              "timestamp             datetime64[ns, UTC]\n",
              "source                           category\n",
              "text                               object\n",
              "expanded_urls                      object\n",
              "rating_numerator                  float64\n",
              "rating_denominator                float64\n",
              "name                               object\n",
              "doggo                              object\n",
              "floofer                            object\n",
              "pupper                             object\n",
              "puppo                              object\n",
              "dog_stage                        category\n",
              "dtype: object"
            ]
          },
          "metadata": {
            "tags": []
          },
          "execution_count": 113
        }
      ]
    },
    {
      "cell_type": "markdown",
      "metadata": {
        "id": "5ASvldW4-J0j",
        "colab_type": "text"
      },
      "source": [
        "#Image Predictions\n",
        "\n",
        "###Problem 8: \n",
        "\n",
        "**Define**\n",
        "\n",
        "Change tweet_id column's datatype from int to string.\n"
      ]
    },
    {
      "cell_type": "markdown",
      "metadata": {
        "id": "cA1iA1Z1-hep",
        "colab_type": "text"
      },
      "source": [
        "**Code**"
      ]
    },
    {
      "cell_type": "code",
      "metadata": {
        "id": "4LsDUnT_-gqm",
        "colab_type": "code",
        "colab": {}
      },
      "source": [
        "image_predictions_clean.tweet_id = image_predictions_clean.tweet_id.astype(str)"
      ],
      "execution_count": 0,
      "outputs": []
    },
    {
      "cell_type": "markdown",
      "metadata": {
        "id": "PBDnxjgy-xnY",
        "colab_type": "text"
      },
      "source": [
        "**Test**"
      ]
    },
    {
      "cell_type": "code",
      "metadata": {
        "id": "6Qe6vCqn-lOr",
        "colab_type": "code",
        "outputId": "05f43232-2fb2-4f18-befc-da21d33fa942",
        "colab": {
          "base_uri": "https://localhost:8080/",
          "height": 243
        }
      },
      "source": [
        "image_predictions_clean.dtypes"
      ],
      "execution_count": 115,
      "outputs": [
        {
          "output_type": "execute_result",
          "data": {
            "text/plain": [
              "tweet_id     object\n",
              "jpg_url      object\n",
              "img_num       int64\n",
              "p1           object\n",
              "p1_conf     float64\n",
              "p1_dog         bool\n",
              "p2           object\n",
              "p2_conf     float64\n",
              "p2_dog         bool\n",
              "p3           object\n",
              "p3_conf     float64\n",
              "p3_dog         bool\n",
              "dtype: object"
            ]
          },
          "metadata": {
            "tags": []
          },
          "execution_count": 115
        }
      ]
    },
    {
      "cell_type": "markdown",
      "metadata": {
        "id": "U6t5BDi1-2wS",
        "colab_type": "text"
      },
      "source": [
        "###Problem 9: \n",
        "\n",
        "**Define**\n",
        "\n",
        "Replace the underscores in the p1, p2 and p3 columns by spaces."
      ]
    },
    {
      "cell_type": "markdown",
      "metadata": {
        "id": "QaQpLnHS_ACq",
        "colab_type": "text"
      },
      "source": [
        "**Code**"
      ]
    },
    {
      "cell_type": "code",
      "metadata": {
        "id": "x6swosE3-ook",
        "colab_type": "code",
        "colab": {}
      },
      "source": [
        "#replacing using the replace function\n",
        "image_predictions_clean.p1 = image_predictions_clean.p1.str.replace('_',' ')\n",
        "image_predictions_clean.p2 = image_predictions_clean.p2.str.replace('_',' ')\n",
        "image_predictions_clean.p3 = image_predictions_clean.p3.str.replace('_',' ')"
      ],
      "execution_count": 0,
      "outputs": []
    },
    {
      "cell_type": "markdown",
      "metadata": {
        "id": "sRfcpnCh_FBE",
        "colab_type": "text"
      },
      "source": [
        "**Test**"
      ]
    },
    {
      "cell_type": "code",
      "metadata": {
        "id": "xegC2A_X_CfI",
        "colab_type": "code",
        "outputId": "189c2d07-5930-4240-f087-331674918e9a",
        "colab": {
          "base_uri": "https://localhost:8080/",
          "height": 407
        }
      },
      "source": [
        "image_predictions_clean[['p1', 'p2', 'p3']]"
      ],
      "execution_count": 117,
      "outputs": [
        {
          "output_type": "execute_result",
          "data": {
            "text/html": [
              "<div>\n",
              "<style scoped>\n",
              "    .dataframe tbody tr th:only-of-type {\n",
              "        vertical-align: middle;\n",
              "    }\n",
              "\n",
              "    .dataframe tbody tr th {\n",
              "        vertical-align: top;\n",
              "    }\n",
              "\n",
              "    .dataframe thead th {\n",
              "        text-align: right;\n",
              "    }\n",
              "</style>\n",
              "<table border=\"1\" class=\"dataframe\">\n",
              "  <thead>\n",
              "    <tr style=\"text-align: right;\">\n",
              "      <th></th>\n",
              "      <th>p1</th>\n",
              "      <th>p2</th>\n",
              "      <th>p3</th>\n",
              "    </tr>\n",
              "  </thead>\n",
              "  <tbody>\n",
              "    <tr>\n",
              "      <th>0</th>\n",
              "      <td>Welsh springer spaniel</td>\n",
              "      <td>collie</td>\n",
              "      <td>Shetland sheepdog</td>\n",
              "    </tr>\n",
              "    <tr>\n",
              "      <th>1</th>\n",
              "      <td>redbone</td>\n",
              "      <td>miniature pinscher</td>\n",
              "      <td>Rhodesian ridgeback</td>\n",
              "    </tr>\n",
              "    <tr>\n",
              "      <th>2</th>\n",
              "      <td>German shepherd</td>\n",
              "      <td>malinois</td>\n",
              "      <td>bloodhound</td>\n",
              "    </tr>\n",
              "    <tr>\n",
              "      <th>3</th>\n",
              "      <td>Rhodesian ridgeback</td>\n",
              "      <td>redbone</td>\n",
              "      <td>miniature pinscher</td>\n",
              "    </tr>\n",
              "    <tr>\n",
              "      <th>4</th>\n",
              "      <td>miniature pinscher</td>\n",
              "      <td>Rottweiler</td>\n",
              "      <td>Doberman</td>\n",
              "    </tr>\n",
              "    <tr>\n",
              "      <th>...</th>\n",
              "      <td>...</td>\n",
              "      <td>...</td>\n",
              "      <td>...</td>\n",
              "    </tr>\n",
              "    <tr>\n",
              "      <th>2070</th>\n",
              "      <td>basset</td>\n",
              "      <td>English springer</td>\n",
              "      <td>German short-haired pointer</td>\n",
              "    </tr>\n",
              "    <tr>\n",
              "      <th>2071</th>\n",
              "      <td>paper towel</td>\n",
              "      <td>Labrador retriever</td>\n",
              "      <td>spatula</td>\n",
              "    </tr>\n",
              "    <tr>\n",
              "      <th>2072</th>\n",
              "      <td>Chihuahua</td>\n",
              "      <td>malamute</td>\n",
              "      <td>kelpie</td>\n",
              "    </tr>\n",
              "    <tr>\n",
              "      <th>2073</th>\n",
              "      <td>Chihuahua</td>\n",
              "      <td>Pekinese</td>\n",
              "      <td>papillon</td>\n",
              "    </tr>\n",
              "    <tr>\n",
              "      <th>2074</th>\n",
              "      <td>orange</td>\n",
              "      <td>bagel</td>\n",
              "      <td>banana</td>\n",
              "    </tr>\n",
              "  </tbody>\n",
              "</table>\n",
              "<p>2075 rows × 3 columns</p>\n",
              "</div>"
            ],
            "text/plain": [
              "                          p1                  p2                           p3\n",
              "0     Welsh springer spaniel              collie            Shetland sheepdog\n",
              "1                    redbone  miniature pinscher          Rhodesian ridgeback\n",
              "2            German shepherd            malinois                   bloodhound\n",
              "3        Rhodesian ridgeback             redbone           miniature pinscher\n",
              "4         miniature pinscher          Rottweiler                     Doberman\n",
              "...                      ...                 ...                          ...\n",
              "2070                  basset    English springer  German short-haired pointer\n",
              "2071             paper towel  Labrador retriever                      spatula\n",
              "2072               Chihuahua            malamute                       kelpie\n",
              "2073               Chihuahua            Pekinese                     papillon\n",
              "2074                  orange               bagel                       banana\n",
              "\n",
              "[2075 rows x 3 columns]"
            ]
          },
          "metadata": {
            "tags": []
          },
          "execution_count": 117
        }
      ]
    },
    {
      "cell_type": "markdown",
      "metadata": {
        "id": "D6QPp0VE_nvF",
        "colab_type": "text"
      },
      "source": [
        "###Problem 10: \n",
        "\n",
        "**Define**\n",
        "\n",
        "Lowercase every word in the columns p1, p2 and p3."
      ]
    },
    {
      "cell_type": "markdown",
      "metadata": {
        "id": "JGKv0-W8_wqS",
        "colab_type": "text"
      },
      "source": [
        "**Code**"
      ]
    },
    {
      "cell_type": "code",
      "metadata": {
        "id": "mpcBQeMV_G20",
        "colab_type": "code",
        "colab": {}
      },
      "source": [
        "#lowercasing by using the str.lower function\n",
        "image_predictions_clean.p1 = image_predictions_clean.p1.str.lower()\n",
        "image_predictions_clean.p2 = image_predictions_clean.p2.str.lower()\n",
        "image_predictions_clean.p3 = image_predictions_clean.p3.str.lower()"
      ],
      "execution_count": 0,
      "outputs": []
    },
    {
      "cell_type": "markdown",
      "metadata": {
        "id": "4xyPW46UADvm",
        "colab_type": "text"
      },
      "source": [
        "**Test**"
      ]
    },
    {
      "cell_type": "code",
      "metadata": {
        "id": "1Q5knWiD_8LP",
        "colab_type": "code",
        "outputId": "d781c6e5-8a09-4e99-8739-c77224726197",
        "colab": {
          "base_uri": "https://localhost:8080/",
          "height": 601
        }
      },
      "source": [
        "image_predictions_clean.head(10)"
      ],
      "execution_count": 119,
      "outputs": [
        {
          "output_type": "execute_result",
          "data": {
            "text/html": [
              "<div>\n",
              "<style scoped>\n",
              "    .dataframe tbody tr th:only-of-type {\n",
              "        vertical-align: middle;\n",
              "    }\n",
              "\n",
              "    .dataframe tbody tr th {\n",
              "        vertical-align: top;\n",
              "    }\n",
              "\n",
              "    .dataframe thead th {\n",
              "        text-align: right;\n",
              "    }\n",
              "</style>\n",
              "<table border=\"1\" class=\"dataframe\">\n",
              "  <thead>\n",
              "    <tr style=\"text-align: right;\">\n",
              "      <th></th>\n",
              "      <th>tweet_id</th>\n",
              "      <th>jpg_url</th>\n",
              "      <th>img_num</th>\n",
              "      <th>p1</th>\n",
              "      <th>p1_conf</th>\n",
              "      <th>p1_dog</th>\n",
              "      <th>p2</th>\n",
              "      <th>p2_conf</th>\n",
              "      <th>p2_dog</th>\n",
              "      <th>p3</th>\n",
              "      <th>p3_conf</th>\n",
              "      <th>p3_dog</th>\n",
              "    </tr>\n",
              "  </thead>\n",
              "  <tbody>\n",
              "    <tr>\n",
              "      <th>0</th>\n",
              "      <td>666020888022790149</td>\n",
              "      <td>https://pbs.twimg.com/media/CT4udn0WwAA0aMy.jpg</td>\n",
              "      <td>1</td>\n",
              "      <td>welsh springer spaniel</td>\n",
              "      <td>0.465074</td>\n",
              "      <td>True</td>\n",
              "      <td>collie</td>\n",
              "      <td>0.156665</td>\n",
              "      <td>True</td>\n",
              "      <td>shetland sheepdog</td>\n",
              "      <td>0.061428</td>\n",
              "      <td>True</td>\n",
              "    </tr>\n",
              "    <tr>\n",
              "      <th>1</th>\n",
              "      <td>666029285002620928</td>\n",
              "      <td>https://pbs.twimg.com/media/CT42GRgUYAA5iDo.jpg</td>\n",
              "      <td>1</td>\n",
              "      <td>redbone</td>\n",
              "      <td>0.506826</td>\n",
              "      <td>True</td>\n",
              "      <td>miniature pinscher</td>\n",
              "      <td>0.074192</td>\n",
              "      <td>True</td>\n",
              "      <td>rhodesian ridgeback</td>\n",
              "      <td>0.072010</td>\n",
              "      <td>True</td>\n",
              "    </tr>\n",
              "    <tr>\n",
              "      <th>2</th>\n",
              "      <td>666033412701032449</td>\n",
              "      <td>https://pbs.twimg.com/media/CT4521TWwAEvMyu.jpg</td>\n",
              "      <td>1</td>\n",
              "      <td>german shepherd</td>\n",
              "      <td>0.596461</td>\n",
              "      <td>True</td>\n",
              "      <td>malinois</td>\n",
              "      <td>0.138584</td>\n",
              "      <td>True</td>\n",
              "      <td>bloodhound</td>\n",
              "      <td>0.116197</td>\n",
              "      <td>True</td>\n",
              "    </tr>\n",
              "    <tr>\n",
              "      <th>3</th>\n",
              "      <td>666044226329800704</td>\n",
              "      <td>https://pbs.twimg.com/media/CT5Dr8HUEAA-lEu.jpg</td>\n",
              "      <td>1</td>\n",
              "      <td>rhodesian ridgeback</td>\n",
              "      <td>0.408143</td>\n",
              "      <td>True</td>\n",
              "      <td>redbone</td>\n",
              "      <td>0.360687</td>\n",
              "      <td>True</td>\n",
              "      <td>miniature pinscher</td>\n",
              "      <td>0.222752</td>\n",
              "      <td>True</td>\n",
              "    </tr>\n",
              "    <tr>\n",
              "      <th>4</th>\n",
              "      <td>666049248165822465</td>\n",
              "      <td>https://pbs.twimg.com/media/CT5IQmsXIAAKY4A.jpg</td>\n",
              "      <td>1</td>\n",
              "      <td>miniature pinscher</td>\n",
              "      <td>0.560311</td>\n",
              "      <td>True</td>\n",
              "      <td>rottweiler</td>\n",
              "      <td>0.243682</td>\n",
              "      <td>True</td>\n",
              "      <td>doberman</td>\n",
              "      <td>0.154629</td>\n",
              "      <td>True</td>\n",
              "    </tr>\n",
              "    <tr>\n",
              "      <th>5</th>\n",
              "      <td>666050758794694657</td>\n",
              "      <td>https://pbs.twimg.com/media/CT5Jof1WUAEuVxN.jpg</td>\n",
              "      <td>1</td>\n",
              "      <td>bernese mountain dog</td>\n",
              "      <td>0.651137</td>\n",
              "      <td>True</td>\n",
              "      <td>english springer</td>\n",
              "      <td>0.263788</td>\n",
              "      <td>True</td>\n",
              "      <td>greater swiss mountain dog</td>\n",
              "      <td>0.016199</td>\n",
              "      <td>True</td>\n",
              "    </tr>\n",
              "    <tr>\n",
              "      <th>6</th>\n",
              "      <td>666051853826850816</td>\n",
              "      <td>https://pbs.twimg.com/media/CT5KoJ1WoAAJash.jpg</td>\n",
              "      <td>1</td>\n",
              "      <td>box turtle</td>\n",
              "      <td>0.933012</td>\n",
              "      <td>False</td>\n",
              "      <td>mud turtle</td>\n",
              "      <td>0.045885</td>\n",
              "      <td>False</td>\n",
              "      <td>terrapin</td>\n",
              "      <td>0.017885</td>\n",
              "      <td>False</td>\n",
              "    </tr>\n",
              "    <tr>\n",
              "      <th>7</th>\n",
              "      <td>666055525042405380</td>\n",
              "      <td>https://pbs.twimg.com/media/CT5N9tpXIAAifs1.jpg</td>\n",
              "      <td>1</td>\n",
              "      <td>chow</td>\n",
              "      <td>0.692517</td>\n",
              "      <td>True</td>\n",
              "      <td>tibetan mastiff</td>\n",
              "      <td>0.058279</td>\n",
              "      <td>True</td>\n",
              "      <td>fur coat</td>\n",
              "      <td>0.054449</td>\n",
              "      <td>False</td>\n",
              "    </tr>\n",
              "    <tr>\n",
              "      <th>8</th>\n",
              "      <td>666057090499244032</td>\n",
              "      <td>https://pbs.twimg.com/media/CT5PY90WoAAQGLo.jpg</td>\n",
              "      <td>1</td>\n",
              "      <td>shopping cart</td>\n",
              "      <td>0.962465</td>\n",
              "      <td>False</td>\n",
              "      <td>shopping basket</td>\n",
              "      <td>0.014594</td>\n",
              "      <td>False</td>\n",
              "      <td>golden retriever</td>\n",
              "      <td>0.007959</td>\n",
              "      <td>True</td>\n",
              "    </tr>\n",
              "    <tr>\n",
              "      <th>9</th>\n",
              "      <td>666058600524156928</td>\n",
              "      <td>https://pbs.twimg.com/media/CT5Qw94XAAA_2dP.jpg</td>\n",
              "      <td>1</td>\n",
              "      <td>miniature poodle</td>\n",
              "      <td>0.201493</td>\n",
              "      <td>True</td>\n",
              "      <td>komondor</td>\n",
              "      <td>0.192305</td>\n",
              "      <td>True</td>\n",
              "      <td>soft-coated wheaten terrier</td>\n",
              "      <td>0.082086</td>\n",
              "      <td>True</td>\n",
              "    </tr>\n",
              "  </tbody>\n",
              "</table>\n",
              "</div>"
            ],
            "text/plain": [
              "             tweet_id  ... p3_dog\n",
              "0  666020888022790149  ...   True\n",
              "1  666029285002620928  ...   True\n",
              "2  666033412701032449  ...   True\n",
              "3  666044226329800704  ...   True\n",
              "4  666049248165822465  ...   True\n",
              "5  666050758794694657  ...   True\n",
              "6  666051853826850816  ...  False\n",
              "7  666055525042405380  ...  False\n",
              "8  666057090499244032  ...   True\n",
              "9  666058600524156928  ...   True\n",
              "\n",
              "[10 rows x 12 columns]"
            ]
          },
          "metadata": {
            "tags": []
          },
          "execution_count": 119
        }
      ]
    },
    {
      "cell_type": "markdown",
      "metadata": {
        "id": "VJwAnESZAfxh",
        "colab_type": "text"
      },
      "source": [
        "#Tweet counts table\n",
        "\n",
        "###Problem 11:\n",
        "\n",
        "**Define**\n",
        "\n",
        "Change tweet_id column's datatype from int to object."
      ]
    },
    {
      "cell_type": "markdown",
      "metadata": {
        "id": "kGwSt0STBaSh",
        "colab_type": "text"
      },
      "source": [
        "**Code**"
      ]
    },
    {
      "cell_type": "code",
      "metadata": {
        "id": "rrm5EgrBAHwN",
        "colab_type": "code",
        "colab": {}
      },
      "source": [
        "tweet_data_clean.id = tweet_data_clean.id.astype(str)"
      ],
      "execution_count": 0,
      "outputs": []
    },
    {
      "cell_type": "markdown",
      "metadata": {
        "id": "wPaTwwB4BX_8",
        "colab_type": "text"
      },
      "source": [
        "**Test**"
      ]
    },
    {
      "cell_type": "code",
      "metadata": {
        "id": "HznicqfnAu0p",
        "colab_type": "code",
        "outputId": "f1791d65-1174-4023-e3fa-7e975ba93a3c",
        "colab": {
          "base_uri": "https://localhost:8080/",
          "height": 87
        }
      },
      "source": [
        "tweet_data_clean.dtypes"
      ],
      "execution_count": 121,
      "outputs": [
        {
          "output_type": "execute_result",
          "data": {
            "text/plain": [
              "id                object\n",
              "favorite_count     int64\n",
              "retweet_count      int64\n",
              "dtype: object"
            ]
          },
          "metadata": {
            "tags": []
          },
          "execution_count": 121
        }
      ]
    },
    {
      "cell_type": "markdown",
      "metadata": {
        "id": "Pc32GAwCalBQ",
        "colab_type": "text"
      },
      "source": [
        "###Problem 12:\n",
        "\n",
        "**Define**\n",
        "\n",
        "Add tweet_info and image_predictions to twitter_archive table"
      ]
    },
    {
      "cell_type": "markdown",
      "metadata": {
        "id": "diQ5Rxllns6R",
        "colab_type": "text"
      },
      "source": [
        "**Code**"
      ]
    },
    {
      "cell_type": "code",
      "metadata": {
        "id": "7mIFgqsTm-up",
        "colab_type": "code",
        "colab": {}
      },
      "source": [
        "twitter_archive_clean = pd.merge(left=twitter_archive_clean,\n",
        "                                 right=tweet_data_clean, left_on='tweet_id', right_on='id', how='inner')"
      ],
      "execution_count": 0,
      "outputs": []
    },
    {
      "cell_type": "code",
      "metadata": {
        "id": "RUBdDP7YnRku",
        "colab_type": "code",
        "colab": {}
      },
      "source": [
        "twitter_archive_clean = twitter_archive_clean.merge(image_predictions_clean, on='tweet_id', how='inner')\n"
      ],
      "execution_count": 0,
      "outputs": []
    },
    {
      "cell_type": "markdown",
      "metadata": {
        "id": "bUfcgzrZaa8e",
        "colab_type": "text"
      },
      "source": [
        "**Test**"
      ]
    },
    {
      "cell_type": "code",
      "metadata": {
        "id": "fByqlPjU5DTw",
        "colab_type": "code",
        "outputId": "d8f4888e-89a3-4f3a-c405-154576755063",
        "colab": {
          "base_uri": "https://localhost:8080/",
          "height": 583
        }
      },
      "source": [
        "twitter_archive_clean.info()"
      ],
      "execution_count": 124,
      "outputs": [
        {
          "output_type": "stream",
          "text": [
            "<class 'pandas.core.frame.DataFrame'>\n",
            "Int64Index: 1994 entries, 0 to 1993\n",
            "Data columns (total 27 columns):\n",
            " #   Column              Non-Null Count  Dtype              \n",
            "---  ------              --------------  -----              \n",
            " 0   tweet_id            1994 non-null   object             \n",
            " 1   timestamp           1994 non-null   datetime64[ns, UTC]\n",
            " 2   source              1994 non-null   category           \n",
            " 3   text                1994 non-null   object             \n",
            " 4   expanded_urls       1994 non-null   object             \n",
            " 5   rating_numerator    1994 non-null   float64            \n",
            " 6   rating_denominator  1994 non-null   float64            \n",
            " 7   name                1994 non-null   object             \n",
            " 8   doggo               1994 non-null   object             \n",
            " 9   floofer             1994 non-null   object             \n",
            " 10  pupper              1994 non-null   object             \n",
            " 11  puppo               1994 non-null   object             \n",
            " 12  dog_stage           306 non-null    category           \n",
            " 13  id                  1994 non-null   object             \n",
            " 14  favorite_count      1994 non-null   int64              \n",
            " 15  retweet_count       1994 non-null   int64              \n",
            " 16  jpg_url             1994 non-null   object             \n",
            " 17  img_num             1994 non-null   int64              \n",
            " 18  p1                  1994 non-null   object             \n",
            " 19  p1_conf             1994 non-null   float64            \n",
            " 20  p1_dog              1994 non-null   bool               \n",
            " 21  p2                  1994 non-null   object             \n",
            " 22  p2_conf             1994 non-null   float64            \n",
            " 23  p2_dog              1994 non-null   bool               \n",
            " 24  p3                  1994 non-null   object             \n",
            " 25  p3_conf             1994 non-null   float64            \n",
            " 26  p3_dog              1994 non-null   bool               \n",
            "dtypes: bool(3), category(2), datetime64[ns, UTC](1), float64(5), int64(3), object(13)\n",
            "memory usage: 368.6+ KB\n"
          ],
          "name": "stdout"
        }
      ]
    },
    {
      "cell_type": "markdown",
      "metadata": {
        "id": "KGPtRbRgHY7m",
        "colab_type": "text"
      },
      "source": [
        "#Problem 13:\n",
        "\n",
        "**Define**\n",
        "\n",
        "Creating a new dog_breed column using the image prediction data"
      ]
    },
    {
      "cell_type": "code",
      "metadata": {
        "id": "nGzPeBEpHYHH",
        "colab_type": "code",
        "colab": {}
      },
      "source": [
        "twitter_archive_clean['dog_breed'] = 'None'\n",
        "\n",
        "for i, row in twitter_archive_clean.iterrows():\n",
        "\n",
        "    if row.p1_dog:\n",
        "        twitter_archive_clean.at[i, 'dog_breed']= row.p1\n",
        "    elif row.p2_dog and row.rating_numerator >= 10:\n",
        "        twitter_archive_clean.at[i, 'dog_breed']= row.p2\n",
        "    elif row.p3_dog and row.rating_numerator >= 10:\n",
        "       twitter_archive_clean.at[i, 'dog_breed']= row.p3\n",
        "    else:\n",
        "        twitter_archive_clean.at[i, 'dog_breed']= 'None'"
      ],
      "execution_count": 0,
      "outputs": []
    },
    {
      "cell_type": "code",
      "metadata": {
        "id": "bKCyEyq3IrwK",
        "colab_type": "code",
        "outputId": "fd6fb5ba-fbf4-4b13-8be9-c0564d634b65",
        "colab": {
          "base_uri": "https://localhost:8080/",
          "height": 217
        }
      },
      "source": [
        "twitter_archive_clean.dog_breed.value_counts()"
      ],
      "execution_count": 126,
      "outputs": [
        {
          "output_type": "execute_result",
          "data": {
            "text/plain": [
              "None                    365\n",
              "golden retriever        156\n",
              "labrador retriever      107\n",
              "pembroke                 94\n",
              "chihuahua                86\n",
              "                       ... \n",
              "japanese spaniel          1\n",
              "clumber                   1\n",
              "bouvier des flandres      1\n",
              "silky terrier             1\n",
              "irish wolfhound           1\n",
              "Name: dog_breed, Length: 114, dtype: int64"
            ]
          },
          "metadata": {
            "tags": []
          },
          "execution_count": 126
        }
      ]
    },
    {
      "cell_type": "code",
      "metadata": {
        "id": "yyTrUBBvKdvU",
        "colab_type": "code",
        "outputId": "e5ae151e-7aa2-43dc-f03f-6c77238a79ed",
        "colab": {
          "base_uri": "https://localhost:8080/",
          "height": 391
        }
      },
      "source": [
        "twitter_archive_clean.drop(['p1', 'p1_conf','p1_dog','p2', 'p2_conf','p2_dog','p3', 'p3_conf','p3_dog','img_num'], axis=1,inplace=True);\n",
        "twitter_archive_clean.head(3)"
      ],
      "execution_count": 127,
      "outputs": [
        {
          "output_type": "execute_result",
          "data": {
            "text/html": [
              "<div>\n",
              "<style scoped>\n",
              "    .dataframe tbody tr th:only-of-type {\n",
              "        vertical-align: middle;\n",
              "    }\n",
              "\n",
              "    .dataframe tbody tr th {\n",
              "        vertical-align: top;\n",
              "    }\n",
              "\n",
              "    .dataframe thead th {\n",
              "        text-align: right;\n",
              "    }\n",
              "</style>\n",
              "<table border=\"1\" class=\"dataframe\">\n",
              "  <thead>\n",
              "    <tr style=\"text-align: right;\">\n",
              "      <th></th>\n",
              "      <th>tweet_id</th>\n",
              "      <th>timestamp</th>\n",
              "      <th>source</th>\n",
              "      <th>text</th>\n",
              "      <th>expanded_urls</th>\n",
              "      <th>rating_numerator</th>\n",
              "      <th>rating_denominator</th>\n",
              "      <th>name</th>\n",
              "      <th>doggo</th>\n",
              "      <th>floofer</th>\n",
              "      <th>pupper</th>\n",
              "      <th>puppo</th>\n",
              "      <th>dog_stage</th>\n",
              "      <th>id</th>\n",
              "      <th>favorite_count</th>\n",
              "      <th>retweet_count</th>\n",
              "      <th>jpg_url</th>\n",
              "      <th>dog_breed</th>\n",
              "    </tr>\n",
              "  </thead>\n",
              "  <tbody>\n",
              "    <tr>\n",
              "      <th>0</th>\n",
              "      <td>892420643555336193</td>\n",
              "      <td>2017-08-01 16:23:56+00:00</td>\n",
              "      <td>Twitter for iPhone</td>\n",
              "      <td>This is Phineas. He's a mystical boy. Only eve...</td>\n",
              "      <td>https://twitter.com/dog_rates/status/892420643...</td>\n",
              "      <td>13.0</td>\n",
              "      <td>10.0</td>\n",
              "      <td>Phineas</td>\n",
              "      <td></td>\n",
              "      <td></td>\n",
              "      <td></td>\n",
              "      <td></td>\n",
              "      <td>NaN</td>\n",
              "      <td>892420643555336193</td>\n",
              "      <td>39467</td>\n",
              "      <td>8853</td>\n",
              "      <td>https://pbs.twimg.com/media/DGKD1-bXoAAIAUK.jpg</td>\n",
              "      <td>None</td>\n",
              "    </tr>\n",
              "    <tr>\n",
              "      <th>1</th>\n",
              "      <td>892177421306343426</td>\n",
              "      <td>2017-08-01 00:17:27+00:00</td>\n",
              "      <td>Twitter for iPhone</td>\n",
              "      <td>This is Tilly. She's just checking pup on you....</td>\n",
              "      <td>https://twitter.com/dog_rates/status/892177421...</td>\n",
              "      <td>13.0</td>\n",
              "      <td>10.0</td>\n",
              "      <td>Tilly</td>\n",
              "      <td></td>\n",
              "      <td></td>\n",
              "      <td></td>\n",
              "      <td></td>\n",
              "      <td>NaN</td>\n",
              "      <td>892177421306343426</td>\n",
              "      <td>33819</td>\n",
              "      <td>6514</td>\n",
              "      <td>https://pbs.twimg.com/media/DGGmoV4XsAAUL6n.jpg</td>\n",
              "      <td>chihuahua</td>\n",
              "    </tr>\n",
              "    <tr>\n",
              "      <th>2</th>\n",
              "      <td>891815181378084864</td>\n",
              "      <td>2017-07-31 00:18:03+00:00</td>\n",
              "      <td>Twitter for iPhone</td>\n",
              "      <td>This is Archie. He is a rare Norwegian Pouncin...</td>\n",
              "      <td>https://twitter.com/dog_rates/status/891815181...</td>\n",
              "      <td>12.0</td>\n",
              "      <td>10.0</td>\n",
              "      <td>Archie</td>\n",
              "      <td></td>\n",
              "      <td></td>\n",
              "      <td></td>\n",
              "      <td></td>\n",
              "      <td>NaN</td>\n",
              "      <td>891815181378084864</td>\n",
              "      <td>25461</td>\n",
              "      <td>4328</td>\n",
              "      <td>https://pbs.twimg.com/media/DGBdLU1WsAANxJ9.jpg</td>\n",
              "      <td>chihuahua</td>\n",
              "    </tr>\n",
              "  </tbody>\n",
              "</table>\n",
              "</div>"
            ],
            "text/plain": [
              "             tweet_id  ...  dog_breed\n",
              "0  892420643555336193  ...       None\n",
              "1  892177421306343426  ...  chihuahua\n",
              "2  891815181378084864  ...  chihuahua\n",
              "\n",
              "[3 rows x 18 columns]"
            ]
          },
          "metadata": {
            "tags": []
          },
          "execution_count": 127
        }
      ]
    },
    {
      "cell_type": "markdown",
      "metadata": {
        "id": "Jy4OKCJHOiKr",
        "colab_type": "text"
      },
      "source": [
        "#Problem 14: \n",
        "\n",
        "**Define**\n",
        "\n",
        "Correct dog names that are not real names"
      ]
    },
    {
      "cell_type": "markdown",
      "metadata": {
        "id": "kDZ1bDb5OwrC",
        "colab_type": "text"
      },
      "source": [
        "**Code**"
      ]
    },
    {
      "cell_type": "code",
      "metadata": {
        "id": "P24bbFbgOipU",
        "colab_type": "code",
        "colab": {}
      },
      "source": [
        "twitter_archive_clean.name = twitter_archive_clean.name.str.replace('^[a-z]+', 'None')"
      ],
      "execution_count": 0,
      "outputs": []
    },
    {
      "cell_type": "markdown",
      "metadata": {
        "id": "S5XzgZLHOyTe",
        "colab_type": "text"
      },
      "source": [
        "**Test**"
      ]
    },
    {
      "cell_type": "code",
      "metadata": {
        "id": "Se9sI9XIO1Ie",
        "colab_type": "code",
        "outputId": "1abe006e-b545-43ee-8957-4532af971dd9",
        "colab": {
          "base_uri": "https://localhost:8080/",
          "height": 217
        }
      },
      "source": [
        "twitter_archive_clean['name'].value_counts()"
      ],
      "execution_count": 129,
      "outputs": [
        {
          "output_type": "execute_result",
          "data": {
            "text/plain": [
              "None       644\n",
              "Charlie     11\n",
              "Lucy        10\n",
              "Cooper      10\n",
              "Oliver      10\n",
              "          ... \n",
              "Brandi       1\n",
              "Obi          1\n",
              "Julius       1\n",
              "Adele        1\n",
              "Gidget       1\n",
              "Name: name, Length: 914, dtype: int64"
            ]
          },
          "metadata": {
            "tags": []
          },
          "execution_count": 129
        }
      ]
    },
    {
      "cell_type": "markdown",
      "metadata": {
        "id": "lkwlF3IpBhfB",
        "colab_type": "text"
      },
      "source": [
        "###**Storing**\n",
        "\n",
        "Store the final cleaned datasets to csv files."
      ]
    },
    {
      "cell_type": "code",
      "metadata": {
        "id": "nscGkAJMtYqF",
        "colab_type": "code",
        "colab": {}
      },
      "source": [
        "twitter_archive_clean.to_csv('twitter_archive_master.csv', index = False)\n",
        "image_predictions_clean.to_csv('image_predicitons_clean.csv', index = False)\n",
        "tweet_data_clean.to_csv('tweet_counts_clean.csv', index = False)"
      ],
      "execution_count": 0,
      "outputs": []
    },
    {
      "cell_type": "markdown",
      "metadata": {
        "id": "pPvvpaGjB20P",
        "colab_type": "text"
      },
      "source": [
        "#Step 4: Analysis and Visualization"
      ]
    },
    {
      "cell_type": "code",
      "metadata": {
        "id": "vPirgxbUBvzC",
        "colab_type": "code",
        "colab": {}
      },
      "source": [
        "#reading the cleaned twitter archives csv file for analysis\n",
        "twitter_data = pd.read_csv('twitter_archive_master.csv', encoding = 'utf-8')"
      ],
      "execution_count": 0,
      "outputs": []
    },
    {
      "cell_type": "code",
      "metadata": {
        "id": "CGJXHu0UCChp",
        "colab_type": "code",
        "outputId": "0858f43e-3b8c-41d6-a089-122f3c32caab",
        "colab": {
          "base_uri": "https://localhost:8080/",
          "height": 1000
        }
      },
      "source": [
        "twitter_data"
      ],
      "execution_count": 132,
      "outputs": [
        {
          "output_type": "execute_result",
          "data": {
            "text/html": [
              "<div>\n",
              "<style scoped>\n",
              "    .dataframe tbody tr th:only-of-type {\n",
              "        vertical-align: middle;\n",
              "    }\n",
              "\n",
              "    .dataframe tbody tr th {\n",
              "        vertical-align: top;\n",
              "    }\n",
              "\n",
              "    .dataframe thead th {\n",
              "        text-align: right;\n",
              "    }\n",
              "</style>\n",
              "<table border=\"1\" class=\"dataframe\">\n",
              "  <thead>\n",
              "    <tr style=\"text-align: right;\">\n",
              "      <th></th>\n",
              "      <th>tweet_id</th>\n",
              "      <th>timestamp</th>\n",
              "      <th>source</th>\n",
              "      <th>text</th>\n",
              "      <th>expanded_urls</th>\n",
              "      <th>rating_numerator</th>\n",
              "      <th>rating_denominator</th>\n",
              "      <th>name</th>\n",
              "      <th>doggo</th>\n",
              "      <th>floofer</th>\n",
              "      <th>pupper</th>\n",
              "      <th>puppo</th>\n",
              "      <th>dog_stage</th>\n",
              "      <th>id</th>\n",
              "      <th>favorite_count</th>\n",
              "      <th>retweet_count</th>\n",
              "      <th>jpg_url</th>\n",
              "      <th>dog_breed</th>\n",
              "    </tr>\n",
              "  </thead>\n",
              "  <tbody>\n",
              "    <tr>\n",
              "      <th>0</th>\n",
              "      <td>892420643555336193</td>\n",
              "      <td>2017-08-01 16:23:56+00:00</td>\n",
              "      <td>Twitter for iPhone</td>\n",
              "      <td>This is Phineas. He's a mystical boy. Only eve...</td>\n",
              "      <td>https://twitter.com/dog_rates/status/892420643...</td>\n",
              "      <td>13.0</td>\n",
              "      <td>10.0</td>\n",
              "      <td>Phineas</td>\n",
              "      <td>NaN</td>\n",
              "      <td>NaN</td>\n",
              "      <td>NaN</td>\n",
              "      <td>NaN</td>\n",
              "      <td>NaN</td>\n",
              "      <td>892420643555336193</td>\n",
              "      <td>39467</td>\n",
              "      <td>8853</td>\n",
              "      <td>https://pbs.twimg.com/media/DGKD1-bXoAAIAUK.jpg</td>\n",
              "      <td>None</td>\n",
              "    </tr>\n",
              "    <tr>\n",
              "      <th>1</th>\n",
              "      <td>892177421306343426</td>\n",
              "      <td>2017-08-01 00:17:27+00:00</td>\n",
              "      <td>Twitter for iPhone</td>\n",
              "      <td>This is Tilly. She's just checking pup on you....</td>\n",
              "      <td>https://twitter.com/dog_rates/status/892177421...</td>\n",
              "      <td>13.0</td>\n",
              "      <td>10.0</td>\n",
              "      <td>Tilly</td>\n",
              "      <td>NaN</td>\n",
              "      <td>NaN</td>\n",
              "      <td>NaN</td>\n",
              "      <td>NaN</td>\n",
              "      <td>NaN</td>\n",
              "      <td>892177421306343426</td>\n",
              "      <td>33819</td>\n",
              "      <td>6514</td>\n",
              "      <td>https://pbs.twimg.com/media/DGGmoV4XsAAUL6n.jpg</td>\n",
              "      <td>chihuahua</td>\n",
              "    </tr>\n",
              "    <tr>\n",
              "      <th>2</th>\n",
              "      <td>891815181378084864</td>\n",
              "      <td>2017-07-31 00:18:03+00:00</td>\n",
              "      <td>Twitter for iPhone</td>\n",
              "      <td>This is Archie. He is a rare Norwegian Pouncin...</td>\n",
              "      <td>https://twitter.com/dog_rates/status/891815181...</td>\n",
              "      <td>12.0</td>\n",
              "      <td>10.0</td>\n",
              "      <td>Archie</td>\n",
              "      <td>NaN</td>\n",
              "      <td>NaN</td>\n",
              "      <td>NaN</td>\n",
              "      <td>NaN</td>\n",
              "      <td>NaN</td>\n",
              "      <td>891815181378084864</td>\n",
              "      <td>25461</td>\n",
              "      <td>4328</td>\n",
              "      <td>https://pbs.twimg.com/media/DGBdLU1WsAANxJ9.jpg</td>\n",
              "      <td>chihuahua</td>\n",
              "    </tr>\n",
              "    <tr>\n",
              "      <th>3</th>\n",
              "      <td>891689557279858688</td>\n",
              "      <td>2017-07-30 15:58:51+00:00</td>\n",
              "      <td>Twitter for iPhone</td>\n",
              "      <td>This is Darla. She commenced a snooze mid meal...</td>\n",
              "      <td>https://twitter.com/dog_rates/status/891689557...</td>\n",
              "      <td>13.0</td>\n",
              "      <td>10.0</td>\n",
              "      <td>Darla</td>\n",
              "      <td>NaN</td>\n",
              "      <td>NaN</td>\n",
              "      <td>NaN</td>\n",
              "      <td>NaN</td>\n",
              "      <td>NaN</td>\n",
              "      <td>891689557279858688</td>\n",
              "      <td>42908</td>\n",
              "      <td>8964</td>\n",
              "      <td>https://pbs.twimg.com/media/DF_q7IAWsAEuuN8.jpg</td>\n",
              "      <td>labrador retriever</td>\n",
              "    </tr>\n",
              "    <tr>\n",
              "      <th>4</th>\n",
              "      <td>891327558926688256</td>\n",
              "      <td>2017-07-29 16:00:24+00:00</td>\n",
              "      <td>Twitter for iPhone</td>\n",
              "      <td>This is Franklin. He would like you to stop ca...</td>\n",
              "      <td>https://twitter.com/dog_rates/status/891327558...</td>\n",
              "      <td>12.0</td>\n",
              "      <td>10.0</td>\n",
              "      <td>Franklin</td>\n",
              "      <td>NaN</td>\n",
              "      <td>NaN</td>\n",
              "      <td>NaN</td>\n",
              "      <td>NaN</td>\n",
              "      <td>NaN</td>\n",
              "      <td>891327558926688256</td>\n",
              "      <td>41048</td>\n",
              "      <td>9774</td>\n",
              "      <td>https://pbs.twimg.com/media/DF6hr6BUMAAzZgT.jpg</td>\n",
              "      <td>basset</td>\n",
              "    </tr>\n",
              "    <tr>\n",
              "      <th>...</th>\n",
              "      <td>...</td>\n",
              "      <td>...</td>\n",
              "      <td>...</td>\n",
              "      <td>...</td>\n",
              "      <td>...</td>\n",
              "      <td>...</td>\n",
              "      <td>...</td>\n",
              "      <td>...</td>\n",
              "      <td>...</td>\n",
              "      <td>...</td>\n",
              "      <td>...</td>\n",
              "      <td>...</td>\n",
              "      <td>...</td>\n",
              "      <td>...</td>\n",
              "      <td>...</td>\n",
              "      <td>...</td>\n",
              "      <td>...</td>\n",
              "      <td>...</td>\n",
              "    </tr>\n",
              "    <tr>\n",
              "      <th>1989</th>\n",
              "      <td>666049248165822465</td>\n",
              "      <td>2015-11-16 00:24:50+00:00</td>\n",
              "      <td>Twitter for iPhone</td>\n",
              "      <td>Here we have a 1949 1st generation vulpix. Enj...</td>\n",
              "      <td>https://twitter.com/dog_rates/status/666049248...</td>\n",
              "      <td>5.0</td>\n",
              "      <td>10.0</td>\n",
              "      <td>None</td>\n",
              "      <td>NaN</td>\n",
              "      <td>NaN</td>\n",
              "      <td>NaN</td>\n",
              "      <td>NaN</td>\n",
              "      <td>NaN</td>\n",
              "      <td>666049248165822465</td>\n",
              "      <td>111</td>\n",
              "      <td>41</td>\n",
              "      <td>https://pbs.twimg.com/media/CT5IQmsXIAAKY4A.jpg</td>\n",
              "      <td>miniature pinscher</td>\n",
              "    </tr>\n",
              "    <tr>\n",
              "      <th>1990</th>\n",
              "      <td>666044226329800704</td>\n",
              "      <td>2015-11-16 00:04:52+00:00</td>\n",
              "      <td>Twitter for iPhone</td>\n",
              "      <td>This is a purebred Piers Morgan. Loves to Netf...</td>\n",
              "      <td>https://twitter.com/dog_rates/status/666044226...</td>\n",
              "      <td>6.0</td>\n",
              "      <td>10.0</td>\n",
              "      <td>None</td>\n",
              "      <td>NaN</td>\n",
              "      <td>NaN</td>\n",
              "      <td>NaN</td>\n",
              "      <td>NaN</td>\n",
              "      <td>NaN</td>\n",
              "      <td>666044226329800704</td>\n",
              "      <td>311</td>\n",
              "      <td>147</td>\n",
              "      <td>https://pbs.twimg.com/media/CT5Dr8HUEAA-lEu.jpg</td>\n",
              "      <td>rhodesian ridgeback</td>\n",
              "    </tr>\n",
              "    <tr>\n",
              "      <th>1991</th>\n",
              "      <td>666033412701032449</td>\n",
              "      <td>2015-11-15 23:21:54+00:00</td>\n",
              "      <td>Twitter for iPhone</td>\n",
              "      <td>Here is a very happy pup. Big fan of well-main...</td>\n",
              "      <td>https://twitter.com/dog_rates/status/666033412...</td>\n",
              "      <td>9.0</td>\n",
              "      <td>10.0</td>\n",
              "      <td>None</td>\n",
              "      <td>NaN</td>\n",
              "      <td>NaN</td>\n",
              "      <td>NaN</td>\n",
              "      <td>NaN</td>\n",
              "      <td>NaN</td>\n",
              "      <td>666033412701032449</td>\n",
              "      <td>128</td>\n",
              "      <td>47</td>\n",
              "      <td>https://pbs.twimg.com/media/CT4521TWwAEvMyu.jpg</td>\n",
              "      <td>german shepherd</td>\n",
              "    </tr>\n",
              "    <tr>\n",
              "      <th>1992</th>\n",
              "      <td>666029285002620928</td>\n",
              "      <td>2015-11-15 23:05:30+00:00</td>\n",
              "      <td>Twitter for iPhone</td>\n",
              "      <td>This is a western brown Mitsubishi terrier. Up...</td>\n",
              "      <td>https://twitter.com/dog_rates/status/666029285...</td>\n",
              "      <td>7.0</td>\n",
              "      <td>10.0</td>\n",
              "      <td>None</td>\n",
              "      <td>NaN</td>\n",
              "      <td>NaN</td>\n",
              "      <td>NaN</td>\n",
              "      <td>NaN</td>\n",
              "      <td>NaN</td>\n",
              "      <td>666029285002620928</td>\n",
              "      <td>132</td>\n",
              "      <td>48</td>\n",
              "      <td>https://pbs.twimg.com/media/CT42GRgUYAA5iDo.jpg</td>\n",
              "      <td>redbone</td>\n",
              "    </tr>\n",
              "    <tr>\n",
              "      <th>1993</th>\n",
              "      <td>666020888022790149</td>\n",
              "      <td>2015-11-15 22:32:08+00:00</td>\n",
              "      <td>Twitter for iPhone</td>\n",
              "      <td>Here we have a Japanese Irish Setter. Lost eye...</td>\n",
              "      <td>https://twitter.com/dog_rates/status/666020888...</td>\n",
              "      <td>8.0</td>\n",
              "      <td>10.0</td>\n",
              "      <td>None</td>\n",
              "      <td>NaN</td>\n",
              "      <td>NaN</td>\n",
              "      <td>NaN</td>\n",
              "      <td>NaN</td>\n",
              "      <td>NaN</td>\n",
              "      <td>666020888022790149</td>\n",
              "      <td>2535</td>\n",
              "      <td>532</td>\n",
              "      <td>https://pbs.twimg.com/media/CT4udn0WwAA0aMy.jpg</td>\n",
              "      <td>welsh springer spaniel</td>\n",
              "    </tr>\n",
              "  </tbody>\n",
              "</table>\n",
              "<p>1994 rows × 18 columns</p>\n",
              "</div>"
            ],
            "text/plain": [
              "                tweet_id  ...               dog_breed\n",
              "0     892420643555336193  ...                    None\n",
              "1     892177421306343426  ...               chihuahua\n",
              "2     891815181378084864  ...               chihuahua\n",
              "3     891689557279858688  ...      labrador retriever\n",
              "4     891327558926688256  ...                  basset\n",
              "...                  ...  ...                     ...\n",
              "1989  666049248165822465  ...      miniature pinscher\n",
              "1990  666044226329800704  ...     rhodesian ridgeback\n",
              "1991  666033412701032449  ...         german shepherd\n",
              "1992  666029285002620928  ...                 redbone\n",
              "1993  666020888022790149  ...  welsh springer spaniel\n",
              "\n",
              "[1994 rows x 18 columns]"
            ]
          },
          "metadata": {
            "tags": []
          },
          "execution_count": 132
        }
      ]
    },
    {
      "cell_type": "markdown",
      "metadata": {
        "id": "t7Q2gwPLD3z-",
        "colab_type": "text"
      },
      "source": [
        "###1- Visualizing the retweet counts, and favorite counts comparison over time."
      ]
    },
    {
      "cell_type": "code",
      "metadata": {
        "id": "Xp4J6naHCLHb",
        "colab_type": "code",
        "outputId": "8e710a24-5263-41ba-91f6-d39707ed9530",
        "colab": {
          "base_uri": "https://localhost:8080/",
          "height": 475
        }
      },
      "source": [
        "import datetime\n",
        "import matplotlib.pyplot as plt\n",
        "%matplotlib inline\n",
        "import seaborn as sns\n",
        "# Scatterplot of retweets vs favorite count\n",
        "\n",
        "sns.lmplot(x=\"retweet_count\", \n",
        "           y=\"favorite_count\", \n",
        "           data=twitter_data,\n",
        "           size = 5,\n",
        "           aspect=1.3,\n",
        "           scatter_kws={'alpha':1/5});\n",
        "\n",
        "plt.title('Favorite Count vs. Retweet Count');\n",
        "plt.xlabel('Retweet Count');\n",
        "plt.ylabel('Favorite Count');"
      ],
      "execution_count": 133,
      "outputs": [
        {
          "output_type": "stream",
          "text": [
            "/usr/local/lib/python3.6/dist-packages/statsmodels/tools/_testing.py:19: FutureWarning: pandas.util.testing is deprecated. Use the functions in the public API at pandas.testing instead.\n",
            "  import pandas.util.testing as tm\n",
            "/usr/local/lib/python3.6/dist-packages/seaborn/regression.py:573: UserWarning: The `size` parameter has been renamed to `height`; please update your code.\n",
            "  warnings.warn(msg, UserWarning)\n"
          ],
          "name": "stderr"
        },
        {
          "output_type": "display_data",
          "data": {
            "image/png": "[encoded data removed]",
            "text/plain": [
              "<Figure size 468x360 with 1 Axes>"
            ]
          },
          "metadata": {
            "tags": [],
            "needs_background": "light"
          }
        }
      ]
    },
    {
      "cell_type": "markdown",
      "metadata": {
        "id": "nnv7WPPED5zO",
        "colab_type": "text"
      },
      "source": [
        "\n",
        "Favorite counts are correlated with retweet counts - this is a positive correlation."
      ]
    },
    {
      "cell_type": "markdown",
      "metadata": {
        "id": "a5WjOWj0EFrJ",
        "colab_type": "text"
      },
      "source": [
        "###2- Visualizing the most popular dog breed"
      ]
    },
    {
      "cell_type": "code",
      "metadata": {
        "id": "TTfHKRoFDjp3",
        "colab_type": "code",
        "outputId": "3c43475b-5946-4e08-c83a-b44c7e1375d2",
        "colab": {
          "base_uri": "https://localhost:8080/",
          "height": 225
        }
      },
      "source": [
        "twitter_data['dog_breed'].value_counts()"
      ],
      "execution_count": 134,
      "outputs": [
        {
          "output_type": "execute_result",
          "data": {
            "text/plain": [
              "None                    365\n",
              "golden retriever        156\n",
              "labrador retriever      107\n",
              "pembroke                 94\n",
              "chihuahua                86\n",
              "                       ... \n",
              "japanese spaniel          1\n",
              "clumber                   1\n",
              "bouvier des flandres      1\n",
              "silky terrier             1\n",
              "irish wolfhound           1\n",
              "Name: dog_breed, Length: 114, dtype: int64"
            ]
          },
          "metadata": {
            "tags": []
          },
          "execution_count": 134
        }
      ]
    },
    {
      "cell_type": "code",
      "metadata": {
        "id": "s45oJky9ESsE",
        "colab_type": "code",
        "outputId": "3a3becb0-a2a8-4e3c-b131-1c85b89cd751",
        "colab": {
          "base_uri": "https://localhost:8080/",
          "height": 264
        }
      },
      "source": [
        "#creating an empty array named labels with the same length as the number of values in the prediction column\n",
        "labels = np.full(len(twitter_data.dog_breed.value_counts()), '', dtype = object)\n",
        "labels[0] = 'Golden Retriever'\n",
        "labels[1] = 'Labrador Retriever'\n",
        "labels[2] = 'Pembroke'\n",
        "labels[3] = 'Chihuahua'\n",
        "twitter_data.dog_breed.value_counts().plot(kind = 'pie', labels = labels)\n",
        "plt.title('Most Common Dog Breeds');"
      ],
      "execution_count": 135,
      "outputs": [
        {
          "output_type": "display_data",
          "data": {
            "image/png": "[encoded data removed]",
            "text/plain": [
              "<Figure size 432x288 with 1 Axes>"
            ]
          },
          "metadata": {
            "tags": []
          }
        }
      ]
    },
    {
      "cell_type": "markdown",
      "metadata": {
        "id": "8hJtkXKqMEFQ",
        "colab_type": "text"
      },
      "source": [
        "Ignoring the None label, the most popular dog breed is a golden retriever,then labrador retriever,then Pembroke and then Chihuahua. \n",
        "\n",
        "These together account for more than 25% of the tweets."
      ]
    },
    {
      "cell_type": "markdown",
      "metadata": {
        "id": "6yM1Q4N1P2t3",
        "colab_type": "text"
      },
      "source": [
        "###3- Visualizing the most popular dog name"
      ]
    },
    {
      "cell_type": "code",
      "metadata": {
        "id": "0RRiRRBZP6xp",
        "colab_type": "code",
        "outputId": "5c17a3b8-ee17-45e0-f762-d78bf2b15f3d",
        "colab": {
          "base_uri": "https://localhost:8080/",
          "height": 225
        }
      },
      "source": [
        "twitter_data.name.value_counts()"
      ],
      "execution_count": 136,
      "outputs": [
        {
          "output_type": "execute_result",
          "data": {
            "text/plain": [
              "None       644\n",
              "Charlie     11\n",
              "Lucy        10\n",
              "Cooper      10\n",
              "Oliver      10\n",
              "          ... \n",
              "Brandi       1\n",
              "Obi          1\n",
              "Julius       1\n",
              "Adele        1\n",
              "Gidget       1\n",
              "Name: name, Length: 914, dtype: int64"
            ]
          },
          "metadata": {
            "tags": []
          },
          "execution_count": 136
        }
      ]
    },
    {
      "cell_type": "code",
      "metadata": {
        "id": "zPXMVCWvJN8_",
        "colab_type": "code",
        "outputId": "e1888b38-36a0-422a-8564-84cbbe34ef42",
        "colab": {
          "base_uri": "https://localhost:8080/",
          "height": 493
        }
      },
      "source": [
        "twitter_data.name.value_counts()[1:7].plot(kind='barh', figsize=(15,8), title='Most Common Dog Names').set_xlabel(\"Number of Dogs\");"
      ],
      "execution_count": 137,
      "outputs": [
        {
          "output_type": "display_data",
          "data": {
            "image/png": "[encoded data removed]",
            "text/plain": [
              "<Figure size 1080x576 with 1 Axes>"
            ]
          },
          "metadata": {
            "tags": [],
            "needs_background": "light"
          }
        }
      ]
    },
    {
      "cell_type": "markdown",
      "metadata": {
        "id": "aB3IRQBdQDM0",
        "colab_type": "text"
      },
      "source": [
        "The most popular dog names are Charlie and then Oliver, Cooper and Lucy for a tie at 10 each."
      ]
    },
    {
      "cell_type": "code",
      "metadata": {
        "id": "jHJ-zBq1NP-f",
        "colab_type": "code",
        "colab": {}
      },
      "source": [
        ""
      ],
      "execution_count": 0,
      "outputs": []
    }
  ]
}